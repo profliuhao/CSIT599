{
  "cells": [
    {
      "cell_type": "markdown",
      "metadata": {
        "id": "view-in-github",
        "colab_type": "text"
      },
      "source": [
        "<a href=\"https://colab.research.google.com/github/profliuhao/CSIT599/blob/main/CSIT599_dl_frameworks_notebook.ipynb\" target=\"_parent\"><img src=\"https://colab.research.google.com/assets/colab-badge.svg\" alt=\"Open In Colab\"/></a>"
      ]
    },
    {
      "cell_type": "markdown",
      "metadata": {
        "id": "tP9DvyeGoS4b"
      },
      "source": [
        "# Introduction to Deep Learning Frameworks\n",
        "\n",
        "## Learning Objectives\n",
        "\n",
        "By the end of this module, you will be able to:\n",
        "1. **Understand** the core philosophies of TensorFlow/Keras and PyTorch\n",
        "2. **Build** identical neural networks using different frameworks\n",
        "3. **Compare** training workflows and APIs across frameworks\n",
        "4. **Apply** best practices for model development in each framework\n",
        "5. **Choose** the appropriate framework for different use cases\n",
        "\n",
        "## Why Use Deep Learning Frameworks?\n",
        "\n",
        "Building neural networks from scratch (as in Module 1) helps understand fundamentals, but frameworks offer:\n",
        "- **Automatic Differentiation**: No manual backpropagation implementation\n",
        "- **Optimized Operations**: GPU acceleration and efficient computations\n",
        "- **Pre-built Components**: Layers, optimizers, loss functions\n",
        "- **Ecosystem**: Model deployment, visualization, pre-trained models\n",
        "- **Community Support**: Extensive documentation and resources"
      ]
    },
    {
      "cell_type": "markdown",
      "metadata": {
        "id": "heL8DllHoS4c"
      },
      "source": [
        "## 1. Environment Setup and Imports\n",
        "\n",
        "First, let's install and import all necessary libraries. This notebook is designed for Google Colab compatibility."
      ]
    },
    {
      "cell_type": "code",
      "execution_count": null,
      "metadata": {
        "id": "2NYWA_lCoS4c",
        "outputId": "049d0bc1-e79f-496c-d7bc-8b3691ab45ed"
      },
      "outputs": [
        {
          "name": "stderr",
          "output_type": "stream",
          "text": [
            "2025-09-02 11:09:48.346939: I tensorflow/core/util/port.cc:153] oneDNN custom operations are on. You may see slightly different numerical results due to floating-point round-off errors from different computation orders. To turn them off, set the environment variable `TF_ENABLE_ONEDNN_OPTS=0`.\n",
            "2025-09-02 11:09:48.357532: E external/local_xla/xla/stream_executor/cuda/cuda_fft.cc:485] Unable to register cuFFT factory: Attempting to register factory for plugin cuFFT when one has already been registered\n",
            "2025-09-02 11:09:48.370103: E external/local_xla/xla/stream_executor/cuda/cuda_dnn.cc:8454] Unable to register cuDNN factory: Attempting to register factory for plugin cuDNN when one has already been registered\n",
            "2025-09-02 11:09:48.373575: E external/local_xla/xla/stream_executor/cuda/cuda_blas.cc:1452] Unable to register cuBLAS factory: Attempting to register factory for plugin cuBLAS when one has already been registered\n",
            "2025-09-02 11:09:48.383262: I tensorflow/core/platform/cpu_feature_guard.cc:210] This TensorFlow binary is optimized to use available CPU instructions in performance-critical operations.\n",
            "To enable the following instructions: AVX2 AVX512F AVX512_VNNI AVX512_BF16 AVX512_FP16 AVX_VNNI AMX_TILE AMX_INT8 AMX_BF16 FMA, in other operations, rebuild TensorFlow with the appropriate compiler flags.\n",
            "2025-09-02 11:09:48.952307: W tensorflow/compiler/tf2tensorrt/utils/py_utils.cc:38] TF-TRT Warning: Could not find TensorRT\n"
          ]
        },
        {
          "name": "stdout",
          "output_type": "stream",
          "text": [
            "TensorFlow version: 2.17.0\n",
            "PyTorch version: 2.5.1+cu121\n",
            "GPU available (TF): []\n",
            "GPU available (PyTorch): False\n"
          ]
        },
        {
          "name": "stderr",
          "output_type": "stream",
          "text": [
            "2025-09-02 11:09:50.927492: E external/local_xla/xla/stream_executor/cuda/cuda_driver.cc:266] failed call to cuInit: CUDA_ERROR_NO_DEVICE: no CUDA-capable device is detected\n",
            "2025-09-02 11:09:50.927511: I external/local_xla/xla/stream_executor/cuda/cuda_diagnostics.cc:135] retrieving CUDA diagnostic information for host: jupyter-liuha\n",
            "2025-09-02 11:09:50.927514: I external/local_xla/xla/stream_executor/cuda/cuda_diagnostics.cc:142] hostname: jupyter-liuha\n",
            "2025-09-02 11:09:50.927579: I external/local_xla/xla/stream_executor/cuda/cuda_diagnostics.cc:166] libcuda reported version is: 570.172.8\n",
            "2025-09-02 11:09:50.927589: I external/local_xla/xla/stream_executor/cuda/cuda_diagnostics.cc:170] kernel reported version is: 570.172.8\n",
            "2025-09-02 11:09:50.927592: I external/local_xla/xla/stream_executor/cuda/cuda_diagnostics.cc:249] kernel version seems to match DSO: 570.172.8\n"
          ]
        },
        {
          "data": {
            "text/plain": [
              "<torch._C.Generator at 0x79ca856fb350>"
            ]
          },
          "execution_count": 1,
          "metadata": {},
          "output_type": "execute_result"
        }
      ],
      "source": [
        "# Installation commands for Colab (uncomment if needed)\n",
        "# !pip install torch torchvision torchaudio --index-url https://download.pytorch.org/whl/cu118\n",
        "# !pip install tensorflow tensorboard\n",
        "\n",
        "# Standard library imports\n",
        "import numpy as np\n",
        "import matplotlib.pyplot as plt\n",
        "import time\n",
        "from typing import Tuple, List\n",
        "import warnings\n",
        "warnings.filterwarnings('ignore')\n",
        "\n",
        "# TensorFlow and Keras imports\n",
        "import tensorflow as tf\n",
        "from tensorflow import keras\n",
        "from tensorflow.keras import layers, models, optimizers, losses, callbacks\n",
        "from tensorflow.keras.utils import to_categorical\n",
        "\n",
        "# PyTorch imports\n",
        "import torch\n",
        "import torch.nn as nn\n",
        "import torch.nn.functional as F\n",
        "import torch.optim as optim\n",
        "from torch.utils.data import DataLoader, TensorDataset\n",
        "import torchvision\n",
        "import torchvision.transforms as transforms\n",
        "\n",
        "# Check versions and GPU availability\n",
        "print(f\"TensorFlow version: {tf.__version__}\")\n",
        "print(f\"PyTorch version: {torch.__version__}\")\n",
        "print(f\"GPU available (TF): {tf.config.list_physical_devices('GPU')}\")\n",
        "print(f\"GPU available (PyTorch): {torch.cuda.is_available()}\")\n",
        "\n",
        "# Set random seeds for reproducibility\n",
        "np.random.seed(42)\n",
        "tf.random.set_seed(42)\n",
        "torch.manual_seed(42)"
      ]
    },
    {
      "cell_type": "markdown",
      "metadata": {
        "id": "yYcA0b4IoS4d"
      },
      "source": [
        "## 2. Framework Philosophies and Design Patterns\n",
        "\n",
        "### TensorFlow/Keras\n",
        "- **Philosophy**: Production-ready, scalable, high-level abstractions\n",
        "- **Design**: Static graph (TF 1.x) → Eager execution (TF 2.x)\n",
        "- **Keras**: High-level API for rapid prototyping\n",
        "- **Best for**: Production deployment, mobile/edge devices, large-scale systems\n",
        "\n",
        "### PyTorch\n",
        "- **Philosophy**: Research-friendly, Pythonic, dynamic computation\n",
        "- **Design**: Define-by-run with dynamic graphs\n",
        "- **API**: Lower-level control with intuitive Python syntax\n",
        "- **Best for**: Research, experimentation, custom architectures"
      ]
    },
    {
      "cell_type": "markdown",
      "metadata": {
        "id": "bHp6nsckoS4d"
      },
      "source": [
        "## 3. Data Loading and Preprocessing\n",
        "\n",
        "Let's load the MNIST dataset using both frameworks' utilities."
      ]
    },
    {
      "cell_type": "code",
      "execution_count": null,
      "metadata": {
        "id": "qVePkCj8oS4d",
        "outputId": "0fd0c056-de15-4a8d-a9b4-dc6503f763ca"
      },
      "outputs": [
        {
          "name": "stdout",
          "output_type": "stream",
          "text": [
            "TensorFlow Data Shape:\n",
            "  Training: (60000, 784), Labels: (60000, 10)\n",
            "  Testing: (10000, 784), Labels: (10000, 10)\n"
          ]
        }
      ],
      "source": [
        "# ============ TensorFlow/Keras Data Loading ============\n",
        "# Keras provides convenient dataset loading functions\n",
        "(x_train_tf, y_train_tf), (x_test_tf, y_test_tf) = keras.datasets.mnist.load_data()\n",
        "\n",
        "# Preprocessing for TensorFlow/Keras\n",
        "# Normalize pixel values to [0, 1] range\n",
        "x_train_tf = x_train_tf.astype('float32') / 255.0\n",
        "x_test_tf = x_test_tf.astype('float32') / 255.0\n",
        "\n",
        "# Reshape for fully connected network (flatten images)\n",
        "x_train_tf_flat = x_train_tf.reshape(-1, 784)  # 28*28 = 784\n",
        "x_test_tf_flat = x_test_tf.reshape(-1, 784)\n",
        "\n",
        "# One-hot encode labels for categorical crossentropy\n",
        "y_train_tf_cat = to_categorical(y_train_tf, 10)\n",
        "y_test_tf_cat = to_categorical(y_test_tf, 10)\n",
        "\n",
        "print(f\"TensorFlow Data Shape:\")\n",
        "print(f\"  Training: {x_train_tf_flat.shape}, Labels: {y_train_tf_cat.shape}\")\n",
        "print(f\"  Testing: {x_test_tf_flat.shape}, Labels: {y_test_tf_cat.shape}\")"
      ]
    },
    {
      "cell_type": "code",
      "execution_count": null,
      "metadata": {
        "id": "gFYEkBt8oS4d",
        "outputId": "acbd4b28-a77e-4ae2-a99b-2ef102ba6b84"
      },
      "outputs": [
        {
          "name": "stdout",
          "output_type": "stream",
          "text": [
            "Downloading http://yann.lecun.com/exdb/mnist/train-images-idx3-ubyte.gz\n",
            "Failed to download (trying next):\n",
            "HTTP Error 404: Not Found\n",
            "\n",
            "Downloading https://ossci-datasets.s3.amazonaws.com/mnist/train-images-idx3-ubyte.gz\n",
            "Downloading https://ossci-datasets.s3.amazonaws.com/mnist/train-images-idx3-ubyte.gz to ./data/MNIST/raw/train-images-idx3-ubyte.gz\n"
          ]
        },
        {
          "name": "stderr",
          "output_type": "stream",
          "text": [
            "100%|██████████| 9.91M/9.91M [00:00<00:00, 46.4MB/s]\n"
          ]
        },
        {
          "name": "stdout",
          "output_type": "stream",
          "text": [
            "Extracting ./data/MNIST/raw/train-images-idx3-ubyte.gz to ./data/MNIST/raw\n",
            "\n",
            "Downloading http://yann.lecun.com/exdb/mnist/train-labels-idx1-ubyte.gz\n",
            "Failed to download (trying next):\n",
            "HTTP Error 404: Not Found\n",
            "\n",
            "Downloading https://ossci-datasets.s3.amazonaws.com/mnist/train-labels-idx1-ubyte.gz\n",
            "Downloading https://ossci-datasets.s3.amazonaws.com/mnist/train-labels-idx1-ubyte.gz to ./data/MNIST/raw/train-labels-idx1-ubyte.gz\n"
          ]
        },
        {
          "name": "stderr",
          "output_type": "stream",
          "text": [
            "100%|██████████| 28.9k/28.9k [00:00<00:00, 5.28MB/s]\n"
          ]
        },
        {
          "name": "stdout",
          "output_type": "stream",
          "text": [
            "Extracting ./data/MNIST/raw/train-labels-idx1-ubyte.gz to ./data/MNIST/raw\n",
            "\n",
            "Downloading http://yann.lecun.com/exdb/mnist/t10k-images-idx3-ubyte.gz\n",
            "Failed to download (trying next):\n",
            "HTTP Error 404: Not Found\n",
            "\n",
            "Downloading https://ossci-datasets.s3.amazonaws.com/mnist/t10k-images-idx3-ubyte.gz\n",
            "Downloading https://ossci-datasets.s3.amazonaws.com/mnist/t10k-images-idx3-ubyte.gz to ./data/MNIST/raw/t10k-images-idx3-ubyte.gz\n"
          ]
        },
        {
          "name": "stderr",
          "output_type": "stream",
          "text": [
            "100%|██████████| 1.65M/1.65M [00:00<00:00, 33.3MB/s]\n"
          ]
        },
        {
          "name": "stdout",
          "output_type": "stream",
          "text": [
            "Extracting ./data/MNIST/raw/t10k-images-idx3-ubyte.gz to ./data/MNIST/raw\n",
            "\n",
            "Downloading http://yann.lecun.com/exdb/mnist/t10k-labels-idx1-ubyte.gz\n",
            "Failed to download (trying next):\n",
            "HTTP Error 404: Not Found\n",
            "\n",
            "Downloading https://ossci-datasets.s3.amazonaws.com/mnist/t10k-labels-idx1-ubyte.gz\n",
            "Downloading https://ossci-datasets.s3.amazonaws.com/mnist/t10k-labels-idx1-ubyte.gz to ./data/MNIST/raw/t10k-labels-idx1-ubyte.gz\n"
          ]
        },
        {
          "name": "stderr",
          "output_type": "stream",
          "text": [
            "100%|██████████| 4.54k/4.54k [00:00<00:00, 2.15MB/s]"
          ]
        },
        {
          "name": "stdout",
          "output_type": "stream",
          "text": [
            "Extracting ./data/MNIST/raw/t10k-labels-idx1-ubyte.gz to ./data/MNIST/raw\n",
            "\n",
            "PyTorch Data:\n",
            "  Training samples: 60000\n",
            "  Testing samples: 10000\n",
            "  Batch size: 64\n",
            "  Number of batches: 938\n"
          ]
        },
        {
          "name": "stderr",
          "output_type": "stream",
          "text": [
            "\n"
          ]
        }
      ],
      "source": [
        "# ============ PyTorch Data Loading ============\n",
        "# PyTorch uses transforms for preprocessing pipeline\n",
        "transform = transforms.Compose([\n",
        "    transforms.ToTensor(),  # Convert PIL image to tensor\n",
        "    transforms.Normalize((0.1307,), (0.3081,))  # MNIST mean and std\n",
        "])\n",
        "\n",
        "# Download and load MNIST dataset\n",
        "train_dataset = torchvision.datasets.MNIST(\n",
        "    root='./data',\n",
        "    train=True,\n",
        "    download=True,\n",
        "    transform=transform\n",
        ")\n",
        "\n",
        "test_dataset = torchvision.datasets.MNIST(\n",
        "    root='./data',\n",
        "    train=False,\n",
        "    download=True,\n",
        "    transform=transform\n",
        ")\n",
        "\n",
        "# Create DataLoaders for batch processing\n",
        "# DataLoader handles batching, shuffling, and parallel loading\n",
        "batch_size = 64\n",
        "train_loader = DataLoader(train_dataset, batch_size=batch_size, shuffle=True)\n",
        "test_loader = DataLoader(test_dataset, batch_size=batch_size, shuffle=False)\n",
        "\n",
        "print(f\"PyTorch Data:\")\n",
        "print(f\"  Training samples: {len(train_dataset)}\")\n",
        "print(f\"  Testing samples: {len(test_dataset)}\")\n",
        "print(f\"  Batch size: {batch_size}\")\n",
        "print(f\"  Number of batches: {len(train_loader)}\")"
      ]
    },
    {
      "cell_type": "markdown",
      "metadata": {
        "id": "t6QAkdcyoS4d"
      },
      "source": [
        "## 4. Building Neural Networks: Side-by-Side Comparison\n",
        "\n",
        "Let's build the **same architecture** in both frameworks:\n",
        "- Input layer: 784 features (28×28 pixels)\n",
        "- Hidden layer 1: 128 neurons with ReLU activation\n",
        "- Dropout: 0.2\n",
        "- Hidden layer 2: 64 neurons with ReLU activation\n",
        "- Dropout: 0.2\n",
        "- Output layer: 10 neurons with softmax activation"
      ]
    },
    {
      "cell_type": "code",
      "execution_count": null,
      "metadata": {
        "id": "ljl-vOyVoS4d",
        "outputId": "b05270b8-2e64-433f-88c3-0792053876ca"
      },
      "outputs": [
        {
          "data": {
            "text/html": [
              "<pre style=\"white-space:pre;overflow-x:auto;line-height:normal;font-family:Menlo,'DejaVu Sans Mono',consolas,'Courier New',monospace\"><span style=\"font-weight: bold\">Model: \"sequential\"</span>\n",
              "</pre>\n"
            ],
            "text/plain": [
              "\u001b[1mModel: \"sequential\"\u001b[0m\n"
            ]
          },
          "metadata": {},
          "output_type": "display_data"
        },
        {
          "data": {
            "text/html": [
              "<pre style=\"white-space:pre;overflow-x:auto;line-height:normal;font-family:Menlo,'DejaVu Sans Mono',consolas,'Courier New',monospace\">┏━━━━━━━━━━━━━━━━━━━━━━━━━━━━━━━━━┳━━━━━━━━━━━━━━━━━━━━━━━━┳━━━━━━━━━━━━━━━┓\n",
              "┃<span style=\"font-weight: bold\"> Layer (type)                    </span>┃<span style=\"font-weight: bold\"> Output Shape           </span>┃<span style=\"font-weight: bold\">       Param # </span>┃\n",
              "┡━━━━━━━━━━━━━━━━━━━━━━━━━━━━━━━━━╇━━━━━━━━━━━━━━━━━━━━━━━━╇━━━━━━━━━━━━━━━┩\n",
              "│ hidden1 (<span style=\"color: #0087ff; text-decoration-color: #0087ff\">Dense</span>)                 │ (<span style=\"color: #00d7ff; text-decoration-color: #00d7ff\">None</span>, <span style=\"color: #00af00; text-decoration-color: #00af00\">128</span>)            │       <span style=\"color: #00af00; text-decoration-color: #00af00\">100,480</span> │\n",
              "├─────────────────────────────────┼────────────────────────┼───────────────┤\n",
              "│ dropout (<span style=\"color: #0087ff; text-decoration-color: #0087ff\">Dropout</span>)               │ (<span style=\"color: #00d7ff; text-decoration-color: #00d7ff\">None</span>, <span style=\"color: #00af00; text-decoration-color: #00af00\">128</span>)            │             <span style=\"color: #00af00; text-decoration-color: #00af00\">0</span> │\n",
              "├─────────────────────────────────┼────────────────────────┼───────────────┤\n",
              "│ hidden2 (<span style=\"color: #0087ff; text-decoration-color: #0087ff\">Dense</span>)                 │ (<span style=\"color: #00d7ff; text-decoration-color: #00d7ff\">None</span>, <span style=\"color: #00af00; text-decoration-color: #00af00\">64</span>)             │         <span style=\"color: #00af00; text-decoration-color: #00af00\">8,256</span> │\n",
              "├─────────────────────────────────┼────────────────────────┼───────────────┤\n",
              "│ dropout_1 (<span style=\"color: #0087ff; text-decoration-color: #0087ff\">Dropout</span>)             │ (<span style=\"color: #00d7ff; text-decoration-color: #00d7ff\">None</span>, <span style=\"color: #00af00; text-decoration-color: #00af00\">64</span>)             │             <span style=\"color: #00af00; text-decoration-color: #00af00\">0</span> │\n",
              "├─────────────────────────────────┼────────────────────────┼───────────────┤\n",
              "│ output (<span style=\"color: #0087ff; text-decoration-color: #0087ff\">Dense</span>)                  │ (<span style=\"color: #00d7ff; text-decoration-color: #00d7ff\">None</span>, <span style=\"color: #00af00; text-decoration-color: #00af00\">10</span>)             │           <span style=\"color: #00af00; text-decoration-color: #00af00\">650</span> │\n",
              "└─────────────────────────────────┴────────────────────────┴───────────────┘\n",
              "</pre>\n"
            ],
            "text/plain": [
              "┏━━━━━━━━━━━━━━━━━━━━━━━━━━━━━━━━━┳━━━━━━━━━━━━━━━━━━━━━━━━┳━━━━━━━━━━━━━━━┓\n",
              "┃\u001b[1m \u001b[0m\u001b[1mLayer (type)                   \u001b[0m\u001b[1m \u001b[0m┃\u001b[1m \u001b[0m\u001b[1mOutput Shape          \u001b[0m\u001b[1m \u001b[0m┃\u001b[1m \u001b[0m\u001b[1m      Param #\u001b[0m\u001b[1m \u001b[0m┃\n",
              "┡━━━━━━━━━━━━━━━━━━━━━━━━━━━━━━━━━╇━━━━━━━━━━━━━━━━━━━━━━━━╇━━━━━━━━━━━━━━━┩\n",
              "│ hidden1 (\u001b[38;5;33mDense\u001b[0m)                 │ (\u001b[38;5;45mNone\u001b[0m, \u001b[38;5;34m128\u001b[0m)            │       \u001b[38;5;34m100,480\u001b[0m │\n",
              "├─────────────────────────────────┼────────────────────────┼───────────────┤\n",
              "│ dropout (\u001b[38;5;33mDropout\u001b[0m)               │ (\u001b[38;5;45mNone\u001b[0m, \u001b[38;5;34m128\u001b[0m)            │             \u001b[38;5;34m0\u001b[0m │\n",
              "├─────────────────────────────────┼────────────────────────┼───────────────┤\n",
              "│ hidden2 (\u001b[38;5;33mDense\u001b[0m)                 │ (\u001b[38;5;45mNone\u001b[0m, \u001b[38;5;34m64\u001b[0m)             │         \u001b[38;5;34m8,256\u001b[0m │\n",
              "├─────────────────────────────────┼────────────────────────┼───────────────┤\n",
              "│ dropout_1 (\u001b[38;5;33mDropout\u001b[0m)             │ (\u001b[38;5;45mNone\u001b[0m, \u001b[38;5;34m64\u001b[0m)             │             \u001b[38;5;34m0\u001b[0m │\n",
              "├─────────────────────────────────┼────────────────────────┼───────────────┤\n",
              "│ output (\u001b[38;5;33mDense\u001b[0m)                  │ (\u001b[38;5;45mNone\u001b[0m, \u001b[38;5;34m10\u001b[0m)             │           \u001b[38;5;34m650\u001b[0m │\n",
              "└─────────────────────────────────┴────────────────────────┴───────────────┘\n"
            ]
          },
          "metadata": {},
          "output_type": "display_data"
        },
        {
          "data": {
            "text/html": [
              "<pre style=\"white-space:pre;overflow-x:auto;line-height:normal;font-family:Menlo,'DejaVu Sans Mono',consolas,'Courier New',monospace\"><span style=\"font-weight: bold\"> Total params: </span><span style=\"color: #00af00; text-decoration-color: #00af00\">109,386</span> (427.29 KB)\n",
              "</pre>\n"
            ],
            "text/plain": [
              "\u001b[1m Total params: \u001b[0m\u001b[38;5;34m109,386\u001b[0m (427.29 KB)\n"
            ]
          },
          "metadata": {},
          "output_type": "display_data"
        },
        {
          "data": {
            "text/html": [
              "<pre style=\"white-space:pre;overflow-x:auto;line-height:normal;font-family:Menlo,'DejaVu Sans Mono',consolas,'Courier New',monospace\"><span style=\"font-weight: bold\"> Trainable params: </span><span style=\"color: #00af00; text-decoration-color: #00af00\">109,386</span> (427.29 KB)\n",
              "</pre>\n"
            ],
            "text/plain": [
              "\u001b[1m Trainable params: \u001b[0m\u001b[38;5;34m109,386\u001b[0m (427.29 KB)\n"
            ]
          },
          "metadata": {},
          "output_type": "display_data"
        },
        {
          "data": {
            "text/html": [
              "<pre style=\"white-space:pre;overflow-x:auto;line-height:normal;font-family:Menlo,'DejaVu Sans Mono',consolas,'Courier New',monospace\"><span style=\"font-weight: bold\"> Non-trainable params: </span><span style=\"color: #00af00; text-decoration-color: #00af00\">0</span> (0.00 B)\n",
              "</pre>\n"
            ],
            "text/plain": [
              "\u001b[1m Non-trainable params: \u001b[0m\u001b[38;5;34m0\u001b[0m (0.00 B)\n"
            ]
          },
          "metadata": {},
          "output_type": "display_data"
        }
      ],
      "source": [
        "# ============ TensorFlow/Keras Model ============\n",
        "\n",
        "def create_keras_model():\n",
        "    \"\"\"\n",
        "    Create a neural network using Keras Sequential API.\n",
        "    Keras provides high-level building blocks for quick prototyping.\n",
        "    \"\"\"\n",
        "    model = keras.Sequential([\n",
        "        # Input layer - specify input shape\n",
        "        layers.Input(shape=(784,)),\n",
        "\n",
        "        # Hidden layer 1: Dense (fully connected) with 128 neurons\n",
        "        layers.Dense(128, activation='relu', name='hidden1'),\n",
        "        # Dropout for regularization (randomly drops 20% of connections)\n",
        "        layers.Dropout(0.2),\n",
        "\n",
        "        # Hidden layer 2: 64 neurons\n",
        "        layers.Dense(64, activation='relu', name='hidden2'),\n",
        "        layers.Dropout(0.2),\n",
        "\n",
        "        # Output layer: 10 neurons (one per class) with softmax\n",
        "        layers.Dense(10, activation='softmax', name='output')\n",
        "    ])\n",
        "\n",
        "    return model\n",
        "\n",
        "# Create and display model\n",
        "keras_model = create_keras_model()\n",
        "keras_model.summary()  # Print model architecture"
      ]
    },
    {
      "cell_type": "code",
      "execution_count": null,
      "metadata": {
        "id": "VArVEzevoS4d",
        "outputId": "187b1dd8-82dc-4333-fc8f-b229eb724144"
      },
      "outputs": [
        {
          "name": "stdout",
          "output_type": "stream",
          "text": [
            "PyTorch Model: 109,386 parameters\n",
            "PyTorchNet(\n",
            "  (fc1): Linear(in_features=784, out_features=128, bias=True)\n",
            "  (dropout1): Dropout(p=0.2, inplace=False)\n",
            "  (fc2): Linear(in_features=128, out_features=64, bias=True)\n",
            "  (dropout2): Dropout(p=0.2, inplace=False)\n",
            "  (fc3): Linear(in_features=64, out_features=10, bias=True)\n",
            ")\n"
          ]
        }
      ],
      "source": [
        "# ============ PyTorch Model ============\n",
        "\n",
        "class PyTorchNet(nn.Module):\n",
        "    \"\"\"\n",
        "    PyTorch model using nn.Module base class.\n",
        "    Requires explicit definition of forward pass.\n",
        "    \"\"\"\n",
        "    def __init__(self):\n",
        "        super(PyTorchNet, self).__init__()\n",
        "        # Define layers\n",
        "        self.fc1 = nn.Linear(784, 128)  # First fully connected layer\n",
        "        self.dropout1 = nn.Dropout(0.2)\n",
        "        self.fc2 = nn.Linear(128, 64)   # Second fully connected layer\n",
        "        self.dropout2 = nn.Dropout(0.2)\n",
        "        self.fc3 = nn.Linear(64, 10)    # Output layer\n",
        "\n",
        "    def forward(self, x):\n",
        "        \"\"\"\n",
        "        Define the forward pass explicitly.\n",
        "        This gives more control over data flow.\n",
        "        \"\"\"\n",
        "        # Flatten input if needed\n",
        "        x = x.view(-1, 784)  # Reshape to (batch_size, 784)\n",
        "\n",
        "        # Forward pass through layers\n",
        "        x = F.relu(self.fc1(x))  # Apply ReLU activation\n",
        "        x = self.dropout1(x)\n",
        "        x = F.relu(self.fc2(x))\n",
        "        x = self.dropout2(x)\n",
        "        x = F.log_softmax(self.fc3(x), dim=1)  # Log softmax for numerical stability\n",
        "\n",
        "        return x\n",
        "\n",
        "# Create model and move to GPU if available\n",
        "device = torch.device('cuda' if torch.cuda.is_available() else 'cpu')\n",
        "pytorch_model = PyTorchNet().to(device)\n",
        "\n",
        "# Count parameters\n",
        "total_params = sum(p.numel() for p in pytorch_model.parameters())\n",
        "print(f\"PyTorch Model: {total_params:,} parameters\")\n",
        "print(pytorch_model)"
      ]
    },
    {
      "cell_type": "markdown",
      "metadata": {
        "id": "wA_FqJHzoS4d"
      },
      "source": [
        "## 5. Model Compilation and Optimization Setup\n",
        "\n",
        "Both frameworks require specifying:\n",
        "- **Optimizer**: Algorithm for updating weights (SGD, Adam, etc.)\n",
        "- **Loss Function**: Measure of prediction error\n",
        "- **Metrics**: Performance indicators to track"
      ]
    },
    {
      "cell_type": "code",
      "execution_count": null,
      "metadata": {
        "id": "7IWrYzI2oS4e",
        "outputId": "c10f6734-afc8-4eee-f14d-3bdda467676a"
      },
      "outputs": [
        {
          "name": "stdout",
          "output_type": "stream",
          "text": [
            "Keras model compiled successfully!\n",
            "Optimizer: Adam (lr=0.001)\n",
            "Loss: Categorical Crossentropy\n"
          ]
        }
      ],
      "source": [
        "# ============ Keras Compilation ============\n",
        "# Keras uses compile() to configure the training process\n",
        "\n",
        "keras_model.compile(\n",
        "    optimizer=keras.optimizers.Adam(learning_rate=0.001),  # Adam optimizer\n",
        "    loss='categorical_crossentropy',  # Multi-class classification loss\n",
        "    metrics=['accuracy']  # Track accuracy during training\n",
        ")\n",
        "\n",
        "print(\"Keras model compiled successfully!\")\n",
        "print(f\"Optimizer: Adam (lr=0.001)\")\n",
        "print(f\"Loss: Categorical Crossentropy\")"
      ]
    },
    {
      "cell_type": "code",
      "execution_count": null,
      "metadata": {
        "id": "naphImkQoS4e",
        "outputId": "53cb776b-6474-40c7-f731-72b757fe30e4"
      },
      "outputs": [
        {
          "name": "stdout",
          "output_type": "stream",
          "text": [
            "PyTorch optimization setup complete!\n",
            "Optimizer: Adam (lr=0.001)\n",
            "Loss: Negative Log Likelihood\n"
          ]
        }
      ],
      "source": [
        "# ============ PyTorch Optimization Setup ============\n",
        "# PyTorch requires separate optimizer and loss function objects\n",
        "\n",
        "# Define optimizer (updates model parameters)\n",
        "pytorch_optimizer = optim.Adam(pytorch_model.parameters(), lr=0.001)\n",
        "\n",
        "# Define loss function (negative log likelihood for classification)\n",
        "pytorch_criterion = nn.NLLLoss()  # Works with log_softmax output\n",
        "\n",
        "print(\"PyTorch optimization setup complete!\")\n",
        "print(f\"Optimizer: Adam (lr=0.001)\")\n",
        "print(f\"Loss: Negative Log Likelihood\")"
      ]
    },
    {
      "cell_type": "markdown",
      "metadata": {
        "id": "aYwFPBEAoS4e"
      },
      "source": [
        "## 6. Training Loops: Framework Comparison\n",
        "\n",
        "### Key Differences:\n",
        "- **Keras**: High-level `fit()` method handles everything\n",
        "- **PyTorch**: Manual training loop gives more control"
      ]
    },
    {
      "cell_type": "code",
      "execution_count": null,
      "metadata": {
        "id": "mz3vEMTFoS4e",
        "outputId": "9a09c26e-1fcf-40d1-9d30-ad53481d6f7b"
      },
      "outputs": [
        {
          "name": "stdout",
          "output_type": "stream",
          "text": [
            "Training Keras model...\n",
            "Epoch 1/10\n",
            "\u001b[1m844/844\u001b[0m \u001b[32m━━━━━━━━━━━━━━━━━━━━\u001b[0m\u001b[37m\u001b[0m \u001b[1m6s\u001b[0m 7ms/step - accuracy: 0.7833 - loss: 0.7061 - val_accuracy: 0.9630 - val_loss: 0.1206 - learning_rate: 0.0010\n",
            "Epoch 2/10\n",
            "\u001b[1m844/844\u001b[0m \u001b[32m━━━━━━━━━━━━━━━━━━━━\u001b[0m\u001b[37m\u001b[0m \u001b[1m5s\u001b[0m 6ms/step - accuracy: 0.9403 - loss: 0.2004 - val_accuracy: 0.9725 - val_loss: 0.0927 - learning_rate: 0.0010\n",
            "Epoch 3/10\n",
            "\u001b[1m844/844\u001b[0m \u001b[32m━━━━━━━━━━━━━━━━━━━━\u001b[0m\u001b[37m\u001b[0m \u001b[1m5s\u001b[0m 6ms/step - accuracy: 0.9560 - loss: 0.1481 - val_accuracy: 0.9732 - val_loss: 0.0853 - learning_rate: 0.0010\n",
            "Epoch 4/10\n",
            "\u001b[1m844/844\u001b[0m \u001b[32m━━━━━━━━━━━━━━━━━━━━\u001b[0m\u001b[37m\u001b[0m \u001b[1m5s\u001b[0m 6ms/step - accuracy: 0.9618 - loss: 0.1235 - val_accuracy: 0.9750 - val_loss: 0.0794 - learning_rate: 0.0010\n",
            "Epoch 5/10\n",
            "\u001b[1m844/844\u001b[0m \u001b[32m━━━━━━━━━━━━━━━━━━━━\u001b[0m\u001b[37m\u001b[0m \u001b[1m6s\u001b[0m 7ms/step - accuracy: 0.9670 - loss: 0.1075 - val_accuracy: 0.9768 - val_loss: 0.0753 - learning_rate: 0.0010\n",
            "Epoch 6/10\n",
            "\u001b[1m844/844\u001b[0m \u001b[32m━━━━━━━━━━━━━━━━━━━━\u001b[0m\u001b[37m\u001b[0m \u001b[1m5s\u001b[0m 6ms/step - accuracy: 0.9716 - loss: 0.0910 - val_accuracy: 0.9792 - val_loss: 0.0711 - learning_rate: 0.0010\n",
            "Epoch 7/10\n",
            "\u001b[1m844/844\u001b[0m \u001b[32m━━━━━━━━━━━━━━━━━━━━\u001b[0m\u001b[37m\u001b[0m \u001b[1m4s\u001b[0m 5ms/step - accuracy: 0.9752 - loss: 0.0803 - val_accuracy: 0.9780 - val_loss: 0.0776 - learning_rate: 0.0010\n",
            "Epoch 8/10\n",
            "\u001b[1m844/844\u001b[0m \u001b[32m━━━━━━━━━━━━━━━━━━━━\u001b[0m\u001b[37m\u001b[0m \u001b[1m5s\u001b[0m 6ms/step - accuracy: 0.9777 - loss: 0.0742 - val_accuracy: 0.9792 - val_loss: 0.0732 - learning_rate: 0.0010\n",
            "Epoch 9/10\n",
            "\u001b[1m844/844\u001b[0m \u001b[32m━━━━━━━━━━━━━━━━━━━━\u001b[0m\u001b[37m\u001b[0m \u001b[1m5s\u001b[0m 6ms/step - accuracy: 0.9804 - loss: 0.0616 - val_accuracy: 0.9813 - val_loss: 0.0678 - learning_rate: 5.0000e-04\n",
            "Epoch 10/10\n",
            "\u001b[1m844/844\u001b[0m \u001b[32m━━━━━━━━━━━━━━━━━━━━\u001b[0m\u001b[37m\u001b[0m \u001b[1m5s\u001b[0m 5ms/step - accuracy: 0.9828 - loss: 0.0528 - val_accuracy: 0.9808 - val_loss: 0.0704 - learning_rate: 5.0000e-04\n"
          ]
        }
      ],
      "source": [
        "# ============ Keras Training ============\n",
        "# Simple and concise training with callbacks\n",
        "\n",
        "# Define callbacks for additional functionality\n",
        "keras_callbacks = [\n",
        "    # Early stopping prevents overfitting\n",
        "    callbacks.EarlyStopping(monitor='val_loss', patience=3, restore_best_weights=True),\n",
        "    # Reduce learning rate when loss plateaus\n",
        "    callbacks.ReduceLROnPlateau(monitor='val_loss', factor=0.5, patience=2)\n",
        "]\n",
        "\n",
        "# Train the model\n",
        "print(\"Training Keras model...\")\n",
        "keras_history = keras_model.fit(\n",
        "    x_train_tf_flat, y_train_tf_cat,  # Training data\n",
        "    batch_size=64,\n",
        "    epochs=10,\n",
        "    validation_split=0.1,  # Use 10% of training data for validation\n",
        "    callbacks=keras_callbacks,\n",
        "    verbose=1  # Show progress bar\n",
        ")"
      ]
    },
    {
      "cell_type": "code",
      "execution_count": null,
      "metadata": {
        "id": "k7vbPOaNoS4e",
        "outputId": "a4f5ea34-a79d-41f9-b11b-6fb2d89a3066"
      },
      "outputs": [
        {
          "name": "stdout",
          "output_type": "stream",
          "text": [
            "Training PyTorch model...\n",
            "  Batch 0/938, Loss: 2.3071\n",
            "  Batch 100/938, Loss: 0.7052\n",
            "  Batch 200/938, Loss: 0.4533\n",
            "  Batch 300/938, Loss: 0.4103\n",
            "  Batch 400/938, Loss: 0.2499\n",
            "  Batch 500/938, Loss: 0.2078\n",
            "  Batch 600/938, Loss: 0.1762\n",
            "  Batch 700/938, Loss: 0.1200\n",
            "  Batch 800/938, Loss: 0.2796\n",
            "  Batch 900/938, Loss: 0.2974\n",
            "Epoch 1/10:\n",
            "  Train Loss: 0.3491, Train Acc: 89.46%\n",
            "  Test Loss: 0.1436, Test Acc: 95.61%\n",
            "  Batch 0/938, Loss: 0.2619\n",
            "  Batch 100/938, Loss: 0.0575\n",
            "  Batch 200/938, Loss: 0.1209\n",
            "  Batch 300/938, Loss: 0.2487\n",
            "  Batch 400/938, Loss: 0.1619\n",
            "  Batch 500/938, Loss: 0.1256\n",
            "  Batch 600/938, Loss: 0.2124\n",
            "  Batch 700/938, Loss: 0.1798\n",
            "  Batch 800/938, Loss: 0.0811\n",
            "  Batch 900/938, Loss: 0.0840\n",
            "Epoch 2/10:\n",
            "  Train Loss: 0.1717, Train Acc: 94.99%\n",
            "  Test Loss: 0.1151, Test Acc: 96.49%\n",
            "  Batch 0/938, Loss: 0.2141\n",
            "  Batch 100/938, Loss: 0.0857\n",
            "  Batch 200/938, Loss: 0.1762\n",
            "  Batch 300/938, Loss: 0.1642\n",
            "  Batch 400/938, Loss: 0.0854\n",
            "  Batch 500/938, Loss: 0.3086\n",
            "  Batch 600/938, Loss: 0.2722\n",
            "  Batch 700/938, Loss: 0.2869\n",
            "  Batch 800/938, Loss: 0.1790\n",
            "  Batch 900/938, Loss: 0.1069\n",
            "Epoch 3/10:\n",
            "  Train Loss: 0.1352, Train Acc: 95.93%\n",
            "  Test Loss: 0.0878, Test Acc: 97.24%\n",
            "  Batch 0/938, Loss: 0.1300\n",
            "  Batch 100/938, Loss: 0.0672\n",
            "  Batch 200/938, Loss: 0.1632\n",
            "  Batch 300/938, Loss: 0.0363\n",
            "  Batch 400/938, Loss: 0.1874\n",
            "  Batch 500/938, Loss: 0.1003\n",
            "  Batch 600/938, Loss: 0.0442\n",
            "  Batch 700/938, Loss: 0.0172\n",
            "  Batch 800/938, Loss: 0.1092\n",
            "  Batch 900/938, Loss: 0.0542\n",
            "Epoch 4/10:\n",
            "  Train Loss: 0.1195, Train Acc: 96.38%\n",
            "  Test Loss: 0.0846, Test Acc: 97.38%\n",
            "  Batch 0/938, Loss: 0.1997\n",
            "  Batch 100/938, Loss: 0.0613\n",
            "  Batch 200/938, Loss: 0.0279\n",
            "  Batch 300/938, Loss: 0.1246\n",
            "  Batch 400/938, Loss: 0.1669\n",
            "  Batch 500/938, Loss: 0.0426\n",
            "  Batch 600/938, Loss: 0.1279\n",
            "  Batch 700/938, Loss: 0.2681\n",
            "  Batch 800/938, Loss: 0.2910\n",
            "  Batch 900/938, Loss: 0.0660\n",
            "Epoch 5/10:\n",
            "  Train Loss: 0.1020, Train Acc: 97.00%\n",
            "  Test Loss: 0.0827, Test Acc: 97.44%\n",
            "  Batch 0/938, Loss: 0.0804\n",
            "  Batch 100/938, Loss: 0.2069\n",
            "  Batch 200/938, Loss: 0.1048\n",
            "  Batch 300/938, Loss: 0.2360\n",
            "  Batch 400/938, Loss: 0.1786\n",
            "  Batch 500/938, Loss: 0.0346\n",
            "  Batch 600/938, Loss: 0.1276\n",
            "  Batch 700/938, Loss: 0.0353\n",
            "  Batch 800/938, Loss: 0.0553\n",
            "  Batch 900/938, Loss: 0.1682\n",
            "Epoch 6/10:\n",
            "  Train Loss: 0.0948, Train Acc: 97.13%\n",
            "  Test Loss: 0.0727, Test Acc: 97.79%\n",
            "  Batch 0/938, Loss: 0.1586\n",
            "  Batch 100/938, Loss: 0.0807\n",
            "  Batch 200/938, Loss: 0.0993\n",
            "  Batch 300/938, Loss: 0.1727\n",
            "  Batch 400/938, Loss: 0.1723\n",
            "  Batch 500/938, Loss: 0.1468\n",
            "  Batch 600/938, Loss: 0.1515\n",
            "  Batch 700/938, Loss: 0.1344\n",
            "  Batch 800/938, Loss: 0.1505\n",
            "  Batch 900/938, Loss: 0.0747\n",
            "Epoch 7/10:\n",
            "  Train Loss: 0.0865, Train Acc: 97.30%\n",
            "  Test Loss: 0.0714, Test Acc: 97.83%\n",
            "  Batch 0/938, Loss: 0.1386\n",
            "  Batch 100/938, Loss: 0.0938\n",
            "  Batch 200/938, Loss: 0.0206\n",
            "  Batch 300/938, Loss: 0.1132\n",
            "  Batch 400/938, Loss: 0.0494\n",
            "  Batch 500/938, Loss: 0.0947\n",
            "  Batch 600/938, Loss: 0.1018\n",
            "  Batch 700/938, Loss: 0.1827\n",
            "  Batch 800/938, Loss: 0.0396\n",
            "  Batch 900/938, Loss: 0.1201\n",
            "Epoch 8/10:\n",
            "  Train Loss: 0.0812, Train Acc: 97.46%\n",
            "  Test Loss: 0.0727, Test Acc: 97.93%\n",
            "  Batch 0/938, Loss: 0.0523\n",
            "  Batch 100/938, Loss: 0.0291\n",
            "  Batch 200/938, Loss: 0.0110\n",
            "  Batch 300/938, Loss: 0.1157\n",
            "  Batch 400/938, Loss: 0.0304\n",
            "  Batch 500/938, Loss: 0.0428\n",
            "  Batch 600/938, Loss: 0.0383\n",
            "  Batch 700/938, Loss: 0.0712\n",
            "  Batch 800/938, Loss: 0.0245\n",
            "  Batch 900/938, Loss: 0.0458\n",
            "Epoch 9/10:\n",
            "  Train Loss: 0.0757, Train Acc: 97.61%\n",
            "  Test Loss: 0.0703, Test Acc: 97.96%\n",
            "  Batch 0/938, Loss: 0.0267\n",
            "  Batch 100/938, Loss: 0.1066\n",
            "  Batch 200/938, Loss: 0.0412\n",
            "  Batch 300/938, Loss: 0.0314\n",
            "  Batch 400/938, Loss: 0.0125\n",
            "  Batch 500/938, Loss: 0.2102\n",
            "  Batch 600/938, Loss: 0.0436\n",
            "  Batch 700/938, Loss: 0.1102\n",
            "  Batch 800/938, Loss: 0.2627\n",
            "  Batch 900/938, Loss: 0.0385\n",
            "Epoch 10/10:\n",
            "  Train Loss: 0.0723, Train Acc: 97.74%\n",
            "  Test Loss: 0.0692, Test Acc: 98.03%\n"
          ]
        }
      ],
      "source": [
        "# ============ PyTorch Training ============\n",
        "# Manual training loop provides full control\n",
        "\n",
        "def train_pytorch_model(model, train_loader, test_loader, epochs=10):\n",
        "    \"\"\"\n",
        "    Manual training loop for PyTorch.\n",
        "    This gives complete control over the training process.\n",
        "    \"\"\"\n",
        "    train_losses = []\n",
        "    test_losses = []\n",
        "    train_accuracies = []\n",
        "    test_accuracies = []\n",
        "\n",
        "    for epoch in range(epochs):\n",
        "        # ===== Training Phase =====\n",
        "        model.train()  # Set model to training mode (enables dropout)\n",
        "        train_loss = 0\n",
        "        correct = 0\n",
        "        total = 0\n",
        "\n",
        "        for batch_idx, (data, target) in enumerate(train_loader):\n",
        "            # Move data to device (GPU if available)\n",
        "            data, target = data.to(device), target.to(device)\n",
        "\n",
        "            # Zero gradients from previous step\n",
        "            pytorch_optimizer.zero_grad()\n",
        "\n",
        "            # Forward pass\n",
        "            output = model(data)\n",
        "\n",
        "            # Calculate loss\n",
        "            loss = pytorch_criterion(output, target)\n",
        "\n",
        "            # Backward pass (compute gradients)\n",
        "            loss.backward()\n",
        "\n",
        "            # Update weights\n",
        "            pytorch_optimizer.step()\n",
        "\n",
        "            # Track metrics\n",
        "            train_loss += loss.item()\n",
        "            _, predicted = output.max(1)\n",
        "            total += target.size(0)\n",
        "            correct += predicted.eq(target).sum().item()\n",
        "\n",
        "            # Print progress\n",
        "            if batch_idx % 100 == 0:\n",
        "                print(f'  Batch {batch_idx}/{len(train_loader)}, Loss: {loss.item():.4f}')\n",
        "\n",
        "        # Calculate epoch metrics\n",
        "        avg_train_loss = train_loss / len(train_loader)\n",
        "        train_acc = 100. * correct / total\n",
        "        train_losses.append(avg_train_loss)\n",
        "        train_accuracies.append(train_acc)\n",
        "\n",
        "        # ===== Validation Phase =====\n",
        "        model.eval()  # Set model to evaluation mode (disables dropout)\n",
        "        test_loss = 0\n",
        "        correct = 0\n",
        "\n",
        "        with torch.no_grad():  # Disable gradient computation for efficiency\n",
        "            for data, target in test_loader:\n",
        "                data, target = data.to(device), target.to(device)\n",
        "                output = model(data)\n",
        "                test_loss += pytorch_criterion(output, target).item()\n",
        "                _, predicted = output.max(1)\n",
        "                correct += predicted.eq(target).sum().item()\n",
        "\n",
        "        # Calculate validation metrics\n",
        "        avg_test_loss = test_loss / len(test_loader)\n",
        "        test_acc = 100. * correct / len(test_dataset)\n",
        "        test_losses.append(avg_test_loss)\n",
        "        test_accuracies.append(test_acc)\n",
        "\n",
        "        print(f'Epoch {epoch+1}/{epochs}:')\n",
        "        print(f'  Train Loss: {avg_train_loss:.4f}, Train Acc: {train_acc:.2f}%')\n",
        "        print(f'  Test Loss: {avg_test_loss:.4f}, Test Acc: {test_acc:.2f}%')\n",
        "\n",
        "    return train_losses, test_losses, train_accuracies, test_accuracies\n",
        "\n",
        "# Train the PyTorch model\n",
        "print(\"Training PyTorch model...\")\n",
        "pytorch_history = train_pytorch_model(pytorch_model, train_loader, test_loader, epochs=10)"
      ]
    },
    {
      "cell_type": "markdown",
      "metadata": {
        "id": "_QeNtaUWoS4e"
      },
      "source": [
        "## 7. Model Evaluation and Visualization"
      ]
    },
    {
      "cell_type": "code",
      "execution_count": null,
      "metadata": {
        "id": "fONxfqU6oS4e",
        "outputId": "f0d97dea-dec5-42a6-83d7-d4a78c849433"
      },
      "outputs": [
        {
          "name": "stdout",
          "output_type": "stream",
          "text": [
            "Keras Model Performance:\n",
            "  Test Loss: 0.0700\n",
            "  Test Accuracy: 0.9783\n",
            "\n",
            "PyTorch Model Performance:\n",
            "  Test Accuracy: 0.9803\n"
          ]
        }
      ],
      "source": [
        "# ============ Evaluate Keras Model ============\n",
        "keras_loss, keras_accuracy = keras_model.evaluate(x_test_tf_flat, y_test_tf_cat, verbose=0)\n",
        "print(f\"Keras Model Performance:\")\n",
        "print(f\"  Test Loss: {keras_loss:.4f}\")\n",
        "print(f\"  Test Accuracy: {keras_accuracy:.4f}\")\n",
        "\n",
        "# ============ Evaluate PyTorch Model ============\n",
        "pytorch_model.eval()\n",
        "correct = 0\n",
        "total = 0\n",
        "\n",
        "with torch.no_grad():\n",
        "    for data, target in test_loader:\n",
        "        data, target = data.to(device), target.to(device)\n",
        "        outputs = pytorch_model(data)\n",
        "        _, predicted = torch.max(outputs.data, 1)\n",
        "        total += target.size(0)\n",
        "        correct += (predicted == target).sum().item()\n",
        "\n",
        "pytorch_accuracy = correct / total\n",
        "print(f\"\\nPyTorch Model Performance:\")\n",
        "print(f\"  Test Accuracy: {pytorch_accuracy:.4f}\")"
      ]
    },
    {
      "cell_type": "code",
      "execution_count": null,
      "metadata": {
        "id": "mHB6ZZUpoS4e",
        "outputId": "53bd4233-6a33-4c02-e9a9-a6b73802f0b9"
      },
      "outputs": [
        {
          "data": {
            "image/png": "[encoded data removed]",
            "text/plain": [
              "<Figure size 1200x400 with 2 Axes>"
            ]
          },
          "metadata": {},
          "output_type": "display_data"
        }
      ],
      "source": [
        "# Visualize training history\n",
        "fig, axes = plt.subplots(1, 2, figsize=(12, 4))\n",
        "\n",
        "# Keras training history\n",
        "axes[0].plot(keras_history.history['loss'], label='Train Loss')\n",
        "axes[0].plot(keras_history.history['val_loss'], label='Val Loss')\n",
        "axes[0].set_title('Keras Training History')\n",
        "axes[0].set_xlabel('Epoch')\n",
        "axes[0].set_ylabel('Loss')\n",
        "axes[0].legend()\n",
        "axes[0].grid(True)\n",
        "\n",
        "# PyTorch training history\n",
        "axes[1].plot(pytorch_history[0], label='Train Loss')\n",
        "axes[1].plot(pytorch_history[1], label='Test Loss')\n",
        "axes[1].set_title('PyTorch Training History')\n",
        "axes[1].set_xlabel('Epoch')\n",
        "axes[1].set_ylabel('Loss')\n",
        "axes[1].legend()\n",
        "axes[1].grid(True)\n",
        "\n",
        "plt.tight_layout()\n",
        "plt.show()"
      ]
    },
    {
      "cell_type": "markdown",
      "metadata": {
        "id": "R9bWmT7roS4e"
      },
      "source": [
        "## 8. Advanced Features: Custom Components\n",
        "\n",
        "### Creating Custom Loss Functions and Layers"
      ]
    },
    {
      "cell_type": "code",
      "execution_count": null,
      "metadata": {
        "id": "XHMY1vCEoS4e",
        "outputId": "072887e2-e3a8-4a0d-f815-338810c55bb1"
      },
      "outputs": [
        {
          "name": "stdout",
          "output_type": "stream",
          "text": [
            "Custom loss functions created for both frameworks!\n"
          ]
        }
      ],
      "source": [
        "# ============ Custom Loss Function in Keras ============\n",
        "def custom_focal_loss_keras(gamma=2.0, alpha=0.25):\n",
        "    \"\"\"\n",
        "    Focal loss for addressing class imbalance.\n",
        "    Focuses learning on hard examples.\n",
        "    \"\"\"\n",
        "    def focal_loss(y_true, y_pred):\n",
        "        # Clip predictions to prevent log(0)\n",
        "        epsilon = tf.keras.backend.epsilon()\n",
        "        y_pred = tf.clip_by_value(y_pred, epsilon, 1. - epsilon)\n",
        "\n",
        "        # Calculate focal loss\n",
        "        p_t = y_true * y_pred + (1 - y_true) * (1 - y_pred)\n",
        "        focal_factor = tf.pow(1 - p_t, gamma)\n",
        "        cross_entropy = -tf.math.log(p_t)\n",
        "        loss = alpha * focal_factor * cross_entropy\n",
        "\n",
        "        return tf.reduce_mean(loss)\n",
        "\n",
        "    return focal_loss\n",
        "\n",
        "# ============ Custom Loss Function in PyTorch ============\n",
        "class FocalLossPyTorch(nn.Module):\n",
        "    \"\"\"\n",
        "    PyTorch implementation of Focal Loss.\n",
        "    \"\"\"\n",
        "    def __init__(self, gamma=2.0, alpha=0.25):\n",
        "        super(FocalLossPyTorch, self).__init__()\n",
        "        self.gamma = gamma\n",
        "        self.alpha = alpha\n",
        "\n",
        "    def forward(self, inputs, targets):\n",
        "        # Calculate cross entropy\n",
        "        ce_loss = F.cross_entropy(inputs, targets, reduction='none')\n",
        "\n",
        "        # Get probabilities\n",
        "        p_t = torch.exp(-ce_loss)\n",
        "\n",
        "        # Calculate focal loss\n",
        "        focal_loss = self.alpha * (1 - p_t) ** self.gamma * ce_loss\n",
        "\n",
        "        return focal_loss.mean()\n",
        "\n",
        "print(\"Custom loss functions created for both frameworks!\")"
      ]
    },
    {
      "cell_type": "code",
      "execution_count": null,
      "metadata": {
        "id": "cHfIRR1ZoS4e",
        "outputId": "76079da5-c709-4953-81a1-b45a468db84e"
      },
      "outputs": [
        {
          "name": "stdout",
          "output_type": "stream",
          "text": [
            "Custom layers created for both frameworks!\n"
          ]
        }
      ],
      "source": [
        "# ============ Custom Layer in Keras ============\n",
        "class GaussianNoise(keras.layers.Layer):\n",
        "    \"\"\"\n",
        "    Custom Keras layer that adds Gaussian noise during training.\n",
        "    \"\"\"\n",
        "    def __init__(self, stddev=0.1, **kwargs):\n",
        "        super().__init__(**kwargs)\n",
        "        self.stddev = stddev\n",
        "\n",
        "    def call(self, inputs, training=None):\n",
        "        if training:\n",
        "            noise = tf.random.normal(shape=tf.shape(inputs), stddev=self.stddev)\n",
        "            return inputs + noise\n",
        "        return inputs\n",
        "\n",
        "    def get_config(self):\n",
        "        config = super().get_config()\n",
        "        config.update({'stddev': self.stddev})\n",
        "        return config\n",
        "\n",
        "# ============ Custom Layer in PyTorch ============\n",
        "class GaussianNoisePyTorch(nn.Module):\n",
        "    \"\"\"\n",
        "    Custom PyTorch module that adds Gaussian noise.\n",
        "    \"\"\"\n",
        "    def __init__(self, stddev=0.1):\n",
        "        super().__init__()\n",
        "        self.stddev = stddev\n",
        "\n",
        "    def forward(self, x):\n",
        "        if self.training:\n",
        "            noise = torch.randn_like(x) * self.stddev\n",
        "            return x + noise\n",
        "        return x\n",
        "\n",
        "print(\"Custom layers created for both frameworks!\")"
      ]
    },
    {
      "cell_type": "markdown",
      "metadata": {
        "id": "gQYHGB8BoS4e"
      },
      "source": [
        "## 9. Model Saving and Loading\n",
        "\n",
        "### Best Practices for Model Persistence"
      ]
    },
    {
      "cell_type": "code",
      "execution_count": null,
      "metadata": {
        "id": "uNWRcsThoS4e",
        "outputId": "a0227bfc-2b0e-4394-f2d8-93ab75f4e620"
      },
      "outputs": [
        {
          "name": "stderr",
          "output_type": "stream",
          "text": [
            "WARNING:absl:You are saving your model as an HDF5 file via `model.save()` or `keras.saving.save_model(model)`. This file format is considered legacy. We recommend using instead the native Keras format, e.g. `model.save('my_model.keras')` or `keras.saving.save_model(model, 'my_model.keras')`. \n"
          ]
        },
        {
          "name": "stdout",
          "output_type": "stream",
          "text": [
            "Keras model saved (complete)\n",
            "Keras model weights saved\n",
            "Keras model saved in SavedModel format\n"
          ]
        }
      ],
      "source": [
        "# ============ Keras Model Saving ============\n",
        "\n",
        "# Method 1: Save entire model (architecture + weights + optimizer state)\n",
        "keras_model.save('keras_model_complete.h5')\n",
        "print(\"Keras model saved (complete)\")\n",
        "\n",
        "# Method 2: Save only weights\n",
        "keras_model.save_weights('keras_model.weights.h5')\n",
        "print(\"Keras model weights saved\")\n",
        "\n",
        "# Method 3: Save as TensorFlow SavedModel format (recommended for production)\n",
        "keras_model.save('keras_saved_model.keras')\n",
        "print(\"Keras model saved in SavedModel format\")\n",
        "\n",
        "# Loading models\n",
        "# loaded_model = keras.models.load_model('keras_model_complete.h5')\n",
        "# keras_model.load_weights('keras_model.weights.h5')"
      ]
    },
    {
      "cell_type": "code",
      "execution_count": null,
      "metadata": {
        "id": "KucWdhNYoS4e",
        "outputId": "9057586a-1e94-4f88-9c10-446791adcba5"
      },
      "outputs": [
        {
          "name": "stdout",
          "output_type": "stream",
          "text": [
            "PyTorch model saved (complete)\n",
            "PyTorch model state dict saved\n",
            "PyTorch checkpoint saved\n"
          ]
        }
      ],
      "source": [
        "# ============ PyTorch Model Saving ============\n",
        "\n",
        "# Method 1: Save entire model (not recommended, less portable)\n",
        "torch.save(pytorch_model, 'pytorch_model_complete.pth')\n",
        "print(\"PyTorch model saved (complete)\")\n",
        "\n",
        "# Method 2: Save only state dict (recommended)\n",
        "torch.save(pytorch_model.state_dict(), 'pytorch_model_weights.pth')\n",
        "print(\"PyTorch model state dict saved\")\n",
        "\n",
        "# Method 3: Save checkpoint with additional information\n",
        "checkpoint = {\n",
        "    'epoch': 10,\n",
        "    'model_state_dict': pytorch_model.state_dict(),\n",
        "    'optimizer_state_dict': pytorch_optimizer.state_dict(),\n",
        "    'loss': pytorch_history[1][-1],\n",
        "}\n",
        "torch.save(checkpoint, 'pytorch_checkpoint.pth')\n",
        "print(\"PyTorch checkpoint saved\")\n",
        "\n",
        "# Loading models\n",
        "# loaded_model = torch.load('pytorch_model_complete.pth')\n",
        "# pytorch_model.load_state_dict(torch.load('pytorch_model_weights.pth'))"
      ]
    },
    {
      "cell_type": "markdown",
      "metadata": {
        "id": "znaypjVKoS4e"
      },
      "source": [
        "## 10. Framework Comparison Summary\n",
        "\n",
        "| Aspect | TensorFlow/Keras | PyTorch |\n",
        "|--------|------------------|----------|\n",
        "| **Learning Curve** | Easier for beginners | Steeper, more Pythonic |\n",
        "| **API Style** | High-level abstractions | Lower-level, explicit |\n",
        "| **Debugging** | Can be challenging | Easier with Python debuggers |\n",
        "| **Production** | Excellent deployment tools | Improving (TorchServe, etc.) |\n",
        "| **Mobile/Edge** | TensorFlow Lite | PyTorch Mobile |\n",
        "| **Research** | Good, improving | Excellent, preferred |\n",
        "| **Community** | Large, enterprise-focused | Large, research-focused |\n",
        "| **Visualization** | TensorBoard (excellent) | TensorBoard support, Weights & Biases |\n",
        "| **Pre-trained Models** | TensorFlow Hub | PyTorch Hub, Hugging Face |"
      ]
    },
    {
      "cell_type": "markdown",
      "metadata": {
        "id": "eDgauNOUoS4e"
      },
      "source": [
        "## 11. Best Practices and Common Pitfalls\n",
        "\n",
        "### TensorFlow/Keras Best Practices:\n",
        "1. **Use tf.data API** for efficient data pipelines\n",
        "2. **Enable mixed precision** for faster training on GPUs\n",
        "3. **Use callbacks** for monitoring and early stopping\n",
        "4. **Profile with TensorBoard** to identify bottlenecks\n",
        "\n",
        "### PyTorch Best Practices:\n",
        "1. **Always call model.eval()** during inference\n",
        "2. **Use torch.no_grad()** context for validation\n",
        "3. **Move data to device** before operations\n",
        "4. **Zero gradients** before backward pass\n",
        "\n",
        "### Common Pitfalls to Avoid:\n",
        "- **Shape mismatches**: Always verify tensor dimensions\n",
        "- **Forgetting to normalize**: Input preprocessing is crucial\n",
        "- **Not setting seeds**: Reproducibility requires fixed seeds\n",
        "- **Memory leaks**: Detach tensors when needed (PyTorch)\n",
        "- **Wrong loss functions**: Match loss to output activation"
      ]
    },
    {
      "cell_type": "markdown",
      "metadata": {
        "id": "GhkyoQ4poS4e"
      },
      "source": [
        "## 12. Practice Exercises\n",
        "\n",
        "Complete the following exercises to reinforce your understanding of deep learning frameworks.\n",
        "\n",
        "### Exercise 1: Implement a CNN in Both Frameworks\n",
        "Create a convolutional neural network for MNIST with:\n",
        "- 2 convolutional layers (32 and 64 filters)\n",
        "- MaxPooling after each conv layer\n",
        "- 2 fully connected layers\n",
        "- Compare training times and accuracy\n",
        "\n",
        "### Exercise 2: Custom Optimizer Implementation\n",
        "Implement a custom learning rate scheduler that:\n",
        "- Starts with lr=0.01\n",
        "- Reduces by 50% every 3 epochs\n",
        "- Implement in both frameworks\n",
        "\n",
        "### Exercise 3: Data Augmentation\n",
        "Add data augmentation to the training pipeline:\n",
        "- Random rotation (±15 degrees)\n",
        "- Random zoom (0.9-1.1)\n",
        "- Compare model performance with/without augmentation\n",
        "\n",
        "### Exercise 4: Transfer Learning\n",
        "Load a pre-trained model and fine-tune it:\n",
        "- Use MobileNetV2 (Keras) or ResNet18 (PyTorch)\n",
        "- Freeze base layers, train only top layers\n",
        "- Compare with training from scratch\n",
        "\n",
        "### Exercise 5: Model Ensemble\n",
        "Create an ensemble of 3 models:\n",
        "- Train models with different architectures\n",
        "- Implement averaging and voting strategies\n",
        "- Compare ensemble vs individual model performance"
      ]
    },
    {
      "cell_type": "markdown",
      "metadata": {
        "id": "68l7dRGmoS4f"
      },
      "source": [
        "## Conclusion and Next Steps\n",
        "\n",
        "### Key Takeaways:\n",
        "1. **Both frameworks are powerful**: Choice depends on use case\n",
        "2. **Keras for simplicity**: Quick prototyping and standard models\n",
        "3. **PyTorch for flexibility**: Research and custom architectures\n",
        "4. **Transferable concepts**: Core deep learning principles apply to both\n",
        "\n",
        "### Recommended Next Steps:\n",
        "1. **Experiment with both frameworks** on your own projects\n",
        "2. **Explore advanced features**: Custom training loops, mixed precision, distributed training\n",
        "3. **Learn deployment**: TensorFlow Serving, TorchServe, ONNX\n",
        "4. **Join communities**: Forums, GitHub, research papers\n",
        "5. **Build projects**: Apply frameworks to real-world problems\n",
        "\n",
        "### Additional Resources:\n",
        "- [TensorFlow Documentation](https://www.tensorflow.org/)\n",
        "- [PyTorch Documentation](https://pytorch.org/)\n",
        "- [Papers with Code](https://paperswithcode.com/) - Implementations in both frameworks\n",
        "- [Hugging Face](https://huggingface.co/) - Pre-trained models and datasets"
      ]
    }
  ],
  "metadata": {
    "kernelspec": {
      "display_name": "Python 3 (ipykernel)",
      "language": "python",
      "name": "python3"
    },
    "language_info": {
      "codemirror_mode": {
        "name": "ipython",
        "version": 3
      },
      "file_extension": ".py",
      "mimetype": "text/x-python",
      "name": "python",
      "nbconvert_exporter": "python",
      "pygments_lexer": "ipython3",
      "version": "3.11.10"
    },
    "colab": {
      "provenance": [],
      "toc_visible": true,
      "include_colab_link": true
    }
  },
  "nbformat": 4,
  "nbformat_minor": 0
}