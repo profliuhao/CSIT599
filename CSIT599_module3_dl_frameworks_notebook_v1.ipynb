{
  "cells": [
    {
      "cell_type": "markdown",
      "metadata": {
        "id": "view-in-github",
        "colab_type": "text"
      },
      "source": [
        "<a href=\"https://colab.research.google.com/github/profliuhao/CSIT599/blob/main/CSIT599_module3_dl_frameworks_notebook_v1.ipynb\" target=\"_parent\"><img src=\"https://colab.research.google.com/assets/colab-badge.svg\" alt=\"Open In Colab\"/></a>"
      ]
    },
    {
      "cell_type": "markdown",
      "metadata": {
        "id": "tP9DvyeGoS4b"
      },
      "source": [
        "# CSIT 599 - Introduction to Deep Learning Frameworks\n",
        "\n",
        "## Learning Objectives\n",
        "\n",
        "By the end of this module, you will be able to:\n",
        "1. **Understand** the core philosophies of TensorFlow/Keras and PyTorch\n",
        "2. **Build** identical neural networks using different frameworks\n",
        "3. **Compare** training workflows and APIs across frameworks\n",
        "4. **Apply** best practices for model development in each framework\n",
        "5. **Choose** the appropriate framework for different use cases\n",
        "\n",
        "## Why Use Deep Learning Frameworks?\n",
        "\n",
        "Building neural networks from scratch (as in Module 1) helps understand fundamentals, but frameworks offer:\n",
        "- **Automatic Differentiation**: No manual backpropagation implementation\n",
        "- **Optimized Operations**: GPU acceleration and efficient computations\n",
        "- **Pre-built Components**: Layers, optimizers, loss functions\n",
        "- **Ecosystem**: Model deployment, visualization, pre-trained models\n",
        "- **Community Support**: Extensive documentation and resources"
      ]
    },
    {
      "cell_type": "markdown",
      "metadata": {
        "id": "heL8DllHoS4c"
      },
      "source": [
        "## 1. Environment Setup and Imports\n",
        "\n",
        "First, let's install and import all necessary libraries. This notebook is designed for Google Colab compatibility."
      ]
    },
    {
      "cell_type": "code",
      "source": [
        "# Installation commands for Colab (uncomment if needed)\n",
        "# !pip install torch torchvision torchaudio --index-url https://download.pytorch.org/whl/cu118\n",
        "# !pip install tensorflow tensorboard"
      ],
      "metadata": {
        "id": "kWSp2SfEt3IU"
      },
      "execution_count": 1,
      "outputs": []
    },
    {
      "cell_type": "code",
      "source": [
        "# Standard library imports\n",
        "import numpy as np\n",
        "import matplotlib.pyplot as plt\n",
        "import time\n",
        "from typing import Tuple, List\n",
        "import warnings\n",
        "warnings.filterwarnings('ignore')"
      ],
      "metadata": {
        "id": "R9LPk5E3t5Jv"
      },
      "execution_count": 2,
      "outputs": []
    },
    {
      "cell_type": "code",
      "source": [
        "# TensorFlow and Keras imports\n",
        "import tensorflow as tf\n",
        "from tensorflow import keras\n",
        "from tensorflow.keras import layers, models, optimizers, losses, callbacks\n",
        "from tensorflow.keras.utils import to_categorical"
      ],
      "metadata": {
        "id": "Lu9xkUY_t7k1"
      },
      "execution_count": 3,
      "outputs": []
    },
    {
      "cell_type": "code",
      "execution_count": 4,
      "metadata": {
        "id": "2NYWA_lCoS4c"
      },
      "outputs": [],
      "source": [
        "# PyTorch imports\n",
        "import torch\n",
        "import torch.nn as nn\n",
        "import torch.nn.functional as F\n",
        "import torch.optim as optim\n",
        "from torch.utils.data import DataLoader, TensorDataset\n",
        "import torchvision\n",
        "import torchvision.transforms as transforms"
      ]
    },
    {
      "cell_type": "code",
      "source": [
        "# Check versions and GPU availability\n",
        "print(f\"TensorFlow version: {tf.__version__}\")\n",
        "print(f\"PyTorch version: {torch.__version__}\")\n",
        "print(f\"GPU available (TF): {tf.config.list_physical_devices('GPU')}\")\n",
        "print(f\"GPU available (PyTorch): {torch.cuda.is_available()}\")\n",
        "\n",
        "# Set random seeds for reproducibility\n",
        "np.random.seed(42)\n",
        "tf.random.set_seed(42)\n",
        "torch.manual_seed(42)"
      ],
      "metadata": {
        "colab": {
          "base_uri": "https://localhost:8080/"
        },
        "id": "N8KXLUOPuBVq",
        "outputId": "657685dd-3c22-4a16-c068-cb1c592cffaa"
      },
      "execution_count": 5,
      "outputs": [
        {
          "output_type": "stream",
          "name": "stdout",
          "text": [
            "TensorFlow version: 2.19.0\n",
            "PyTorch version: 2.8.0+cu126\n",
            "GPU available (TF): [PhysicalDevice(name='/physical_device:GPU:0', device_type='GPU')]\n",
            "GPU available (PyTorch): True\n"
          ]
        },
        {
          "output_type": "execute_result",
          "data": {
            "text/plain": [
              "<torch._C.Generator at 0x7c20b7190470>"
            ]
          },
          "metadata": {},
          "execution_count": 5
        }
      ]
    },
    {
      "cell_type": "markdown",
      "metadata": {
        "id": "yYcA0b4IoS4d"
      },
      "source": [
        "## 2. Framework Philosophies and Design Patterns\n",
        "\n",
        "### TensorFlow/Keras\n",
        "- **Philosophy**: Production-ready, scalable, high-level abstractions\n",
        "- **Design**: Static graph (TF 1.x) → Eager execution (TF 2.x)\n",
        "- **Keras**: High-level API for rapid prototyping\n",
        "- **Best for**: Production deployment, mobile/edge devices, large-scale systems\n",
        "\n",
        "### PyTorch\n",
        "- **Philosophy**: Research-friendly, Pythonic, dynamic computation\n",
        "- **Design**: Define-by-run with dynamic graphs\n",
        "- **API**: Lower-level control with intuitive Python syntax\n",
        "- **Best for**: Research, experimentation, custom architectures"
      ]
    },
    {
      "cell_type": "markdown",
      "metadata": {
        "id": "bHp6nsckoS4d"
      },
      "source": [
        "## 3. Data Loading and Preprocessing\n",
        "\n",
        "Let's load the MNIST dataset using both frameworks' utilities."
      ]
    },
    {
      "cell_type": "code",
      "execution_count": 6,
      "metadata": {
        "id": "qVePkCj8oS4d",
        "outputId": "1bff295d-b22e-4eba-a14d-ad03472a89e7",
        "colab": {
          "base_uri": "https://localhost:8080/"
        }
      },
      "outputs": [
        {
          "output_type": "stream",
          "name": "stdout",
          "text": [
            "Downloading data from https://storage.googleapis.com/tensorflow/tf-keras-datasets/mnist.npz\n",
            "\u001b[1m11490434/11490434\u001b[0m \u001b[32m━━━━━━━━━━━━━━━━━━━━\u001b[0m\u001b[37m\u001b[0m \u001b[1m0s\u001b[0m 0us/step\n",
            "TensorFlow Data Shape:\n",
            "  Training: (60000, 784), Labels: (60000, 10)\n",
            "  Testing: (10000, 784), Labels: (10000, 10)\n"
          ]
        }
      ],
      "source": [
        "# ============ TensorFlow/Keras Data Loading ============\n",
        "# Keras provides convenient dataset loading functions\n",
        "(x_train_tf, y_train_tf), (x_test_tf, y_test_tf) = keras.datasets.mnist.load_data()\n",
        "\n",
        "# Preprocessing for TensorFlow/Keras\n",
        "# Normalize pixel values to [0, 1] range\n",
        "x_train_tf = x_train_tf.astype('float32') / 255.0\n",
        "x_test_tf = x_test_tf.astype('float32') / 255.0\n",
        "\n",
        "# Reshape for fully connected network (flatten images)\n",
        "x_train_tf_flat = x_train_tf.reshape(-1, 784)  # 28*28 = 784\n",
        "x_test_tf_flat = x_test_tf.reshape(-1, 784)\n",
        "\n",
        "# One-hot encode labels for categorical crossentropy\n",
        "y_train_tf_cat = to_categorical(y_train_tf, 10)\n",
        "y_test_tf_cat = to_categorical(y_test_tf, 10)\n",
        "\n",
        "print(f\"TensorFlow Data Shape:\")\n",
        "print(f\"  Training: {x_train_tf_flat.shape}, Labels: {y_train_tf_cat.shape}\")\n",
        "print(f\"  Testing: {x_test_tf_flat.shape}, Labels: {y_test_tf_cat.shape}\")"
      ]
    },
    {
      "cell_type": "code",
      "execution_count": 7,
      "metadata": {
        "id": "gFYEkBt8oS4d",
        "outputId": "c2864b9e-9cf3-4409-8707-1665a764c80a",
        "colab": {
          "base_uri": "https://localhost:8080/"
        }
      },
      "outputs": [
        {
          "output_type": "stream",
          "name": "stderr",
          "text": [
            "100%|██████████| 9.91M/9.91M [00:00<00:00, 19.9MB/s]\n",
            "100%|██████████| 28.9k/28.9k [00:00<00:00, 485kB/s]\n",
            "100%|██████████| 1.65M/1.65M [00:00<00:00, 4.52MB/s]\n",
            "100%|██████████| 4.54k/4.54k [00:00<00:00, 8.76MB/s]"
          ]
        },
        {
          "output_type": "stream",
          "name": "stdout",
          "text": [
            "PyTorch Data:\n",
            "  Training samples: 60000\n",
            "  Testing samples: 10000\n",
            "  Batch size: 64\n",
            "  Number of batches: 938\n"
          ]
        },
        {
          "output_type": "stream",
          "name": "stderr",
          "text": [
            "\n"
          ]
        }
      ],
      "source": [
        "# ============ PyTorch Data Loading ============\n",
        "# PyTorch uses transforms for preprocessing pipeline\n",
        "transform = transforms.Compose([\n",
        "    transforms.ToTensor(),  # Convert PIL image to tensor\n",
        "    transforms.Normalize((0.1307,), (0.3081,))  # MNIST mean and std\n",
        "])\n",
        "\n",
        "# Download and load MNIST dataset\n",
        "train_dataset = torchvision.datasets.MNIST(\n",
        "    root='./data',\n",
        "    train=True,\n",
        "    download=True,\n",
        "    transform=transform\n",
        ")\n",
        "\n",
        "test_dataset = torchvision.datasets.MNIST(\n",
        "    root='./data',\n",
        "    train=False,\n",
        "    download=True,\n",
        "    transform=transform\n",
        ")\n",
        "\n",
        "# Create DataLoaders for batch processing\n",
        "# DataLoader handles batching, shuffling, and parallel loading\n",
        "batch_size = 64\n",
        "train_loader = DataLoader(train_dataset, batch_size=batch_size, shuffle=True)\n",
        "test_loader = DataLoader(test_dataset, batch_size=batch_size, shuffle=False)\n",
        "\n",
        "print(f\"PyTorch Data:\")\n",
        "print(f\"  Training samples: {len(train_dataset)}\")\n",
        "print(f\"  Testing samples: {len(test_dataset)}\")\n",
        "print(f\"  Batch size: {batch_size}\")\n",
        "print(f\"  Number of batches: {len(train_loader)}\")"
      ]
    },
    {
      "cell_type": "markdown",
      "metadata": {
        "id": "t6QAkdcyoS4d"
      },
      "source": [
        "## 4. Building Neural Networks: Side-by-Side Comparison\n",
        "\n",
        "Let's build the **same architecture** in both frameworks:\n",
        "- Input layer: 784 features (28×28 pixels)\n",
        "- Hidden layer 1: 128 neurons with ReLU activation\n",
        "- Dropout: 0.2\n",
        "- Hidden layer 2: 64 neurons with ReLU activation\n",
        "- Dropout: 0.2\n",
        "- Output layer: 10 neurons with softmax activation"
      ]
    },
    {
      "cell_type": "code",
      "execution_count": 8,
      "metadata": {
        "id": "ljl-vOyVoS4d",
        "outputId": "83ea0fef-ec49-486e-ee85-6fce535b2a2d",
        "colab": {
          "base_uri": "https://localhost:8080/",
          "height": 295
        }
      },
      "outputs": [
        {
          "output_type": "display_data",
          "data": {
            "text/plain": [
              "\u001b[1mModel: \"sequential\"\u001b[0m\n"
            ],
            "text/html": [
              "<pre style=\"white-space:pre;overflow-x:auto;line-height:normal;font-family:Menlo,'DejaVu Sans Mono',consolas,'Courier New',monospace\"><span style=\"font-weight: bold\">Model: \"sequential\"</span>\n",
              "</pre>\n"
            ]
          },
          "metadata": {}
        },
        {
          "output_type": "display_data",
          "data": {
            "text/plain": [
              "┏━━━━━━━━━━━━━━━━━━━━━━━━━━━━━━━━━┳━━━━━━━━━━━━━━━━━━━━━━━━┳━━━━━━━━━━━━━━━┓\n",
              "┃\u001b[1m \u001b[0m\u001b[1mLayer (type)                   \u001b[0m\u001b[1m \u001b[0m┃\u001b[1m \u001b[0m\u001b[1mOutput Shape          \u001b[0m\u001b[1m \u001b[0m┃\u001b[1m \u001b[0m\u001b[1m      Param #\u001b[0m\u001b[1m \u001b[0m┃\n",
              "┡━━━━━━━━━━━━━━━━━━━━━━━━━━━━━━━━━╇━━━━━━━━━━━━━━━━━━━━━━━━╇━━━━━━━━━━━━━━━┩\n",
              "│ hidden1 (\u001b[38;5;33mDense\u001b[0m)                 │ (\u001b[38;5;45mNone\u001b[0m, \u001b[38;5;34m128\u001b[0m)            │       \u001b[38;5;34m100,480\u001b[0m │\n",
              "├─────────────────────────────────┼────────────────────────┼───────────────┤\n",
              "│ dropout (\u001b[38;5;33mDropout\u001b[0m)               │ (\u001b[38;5;45mNone\u001b[0m, \u001b[38;5;34m128\u001b[0m)            │             \u001b[38;5;34m0\u001b[0m │\n",
              "├─────────────────────────────────┼────────────────────────┼───────────────┤\n",
              "│ hidden2 (\u001b[38;5;33mDense\u001b[0m)                 │ (\u001b[38;5;45mNone\u001b[0m, \u001b[38;5;34m64\u001b[0m)             │         \u001b[38;5;34m8,256\u001b[0m │\n",
              "├─────────────────────────────────┼────────────────────────┼───────────────┤\n",
              "│ dropout_1 (\u001b[38;5;33mDropout\u001b[0m)             │ (\u001b[38;5;45mNone\u001b[0m, \u001b[38;5;34m64\u001b[0m)             │             \u001b[38;5;34m0\u001b[0m │\n",
              "├─────────────────────────────────┼────────────────────────┼───────────────┤\n",
              "│ output (\u001b[38;5;33mDense\u001b[0m)                  │ (\u001b[38;5;45mNone\u001b[0m, \u001b[38;5;34m10\u001b[0m)             │           \u001b[38;5;34m650\u001b[0m │\n",
              "└─────────────────────────────────┴────────────────────────┴───────────────┘\n"
            ],
            "text/html": [
              "<pre style=\"white-space:pre;overflow-x:auto;line-height:normal;font-family:Menlo,'DejaVu Sans Mono',consolas,'Courier New',monospace\">┏━━━━━━━━━━━━━━━━━━━━━━━━━━━━━━━━━┳━━━━━━━━━━━━━━━━━━━━━━━━┳━━━━━━━━━━━━━━━┓\n",
              "┃<span style=\"font-weight: bold\"> Layer (type)                    </span>┃<span style=\"font-weight: bold\"> Output Shape           </span>┃<span style=\"font-weight: bold\">       Param # </span>┃\n",
              "┡━━━━━━━━━━━━━━━━━━━━━━━━━━━━━━━━━╇━━━━━━━━━━━━━━━━━━━━━━━━╇━━━━━━━━━━━━━━━┩\n",
              "│ hidden1 (<span style=\"color: #0087ff; text-decoration-color: #0087ff\">Dense</span>)                 │ (<span style=\"color: #00d7ff; text-decoration-color: #00d7ff\">None</span>, <span style=\"color: #00af00; text-decoration-color: #00af00\">128</span>)            │       <span style=\"color: #00af00; text-decoration-color: #00af00\">100,480</span> │\n",
              "├─────────────────────────────────┼────────────────────────┼───────────────┤\n",
              "│ dropout (<span style=\"color: #0087ff; text-decoration-color: #0087ff\">Dropout</span>)               │ (<span style=\"color: #00d7ff; text-decoration-color: #00d7ff\">None</span>, <span style=\"color: #00af00; text-decoration-color: #00af00\">128</span>)            │             <span style=\"color: #00af00; text-decoration-color: #00af00\">0</span> │\n",
              "├─────────────────────────────────┼────────────────────────┼───────────────┤\n",
              "│ hidden2 (<span style=\"color: #0087ff; text-decoration-color: #0087ff\">Dense</span>)                 │ (<span style=\"color: #00d7ff; text-decoration-color: #00d7ff\">None</span>, <span style=\"color: #00af00; text-decoration-color: #00af00\">64</span>)             │         <span style=\"color: #00af00; text-decoration-color: #00af00\">8,256</span> │\n",
              "├─────────────────────────────────┼────────────────────────┼───────────────┤\n",
              "│ dropout_1 (<span style=\"color: #0087ff; text-decoration-color: #0087ff\">Dropout</span>)             │ (<span style=\"color: #00d7ff; text-decoration-color: #00d7ff\">None</span>, <span style=\"color: #00af00; text-decoration-color: #00af00\">64</span>)             │             <span style=\"color: #00af00; text-decoration-color: #00af00\">0</span> │\n",
              "├─────────────────────────────────┼────────────────────────┼───────────────┤\n",
              "│ output (<span style=\"color: #0087ff; text-decoration-color: #0087ff\">Dense</span>)                  │ (<span style=\"color: #00d7ff; text-decoration-color: #00d7ff\">None</span>, <span style=\"color: #00af00; text-decoration-color: #00af00\">10</span>)             │           <span style=\"color: #00af00; text-decoration-color: #00af00\">650</span> │\n",
              "└─────────────────────────────────┴────────────────────────┴───────────────┘\n",
              "</pre>\n"
            ]
          },
          "metadata": {}
        },
        {
          "output_type": "display_data",
          "data": {
            "text/plain": [
              "\u001b[1m Total params: \u001b[0m\u001b[38;5;34m109,386\u001b[0m (427.29 KB)\n"
            ],
            "text/html": [
              "<pre style=\"white-space:pre;overflow-x:auto;line-height:normal;font-family:Menlo,'DejaVu Sans Mono',consolas,'Courier New',monospace\"><span style=\"font-weight: bold\"> Total params: </span><span style=\"color: #00af00; text-decoration-color: #00af00\">109,386</span> (427.29 KB)\n",
              "</pre>\n"
            ]
          },
          "metadata": {}
        },
        {
          "output_type": "display_data",
          "data": {
            "text/plain": [
              "\u001b[1m Trainable params: \u001b[0m\u001b[38;5;34m109,386\u001b[0m (427.29 KB)\n"
            ],
            "text/html": [
              "<pre style=\"white-space:pre;overflow-x:auto;line-height:normal;font-family:Menlo,'DejaVu Sans Mono',consolas,'Courier New',monospace\"><span style=\"font-weight: bold\"> Trainable params: </span><span style=\"color: #00af00; text-decoration-color: #00af00\">109,386</span> (427.29 KB)\n",
              "</pre>\n"
            ]
          },
          "metadata": {}
        },
        {
          "output_type": "display_data",
          "data": {
            "text/plain": [
              "\u001b[1m Non-trainable params: \u001b[0m\u001b[38;5;34m0\u001b[0m (0.00 B)\n"
            ],
            "text/html": [
              "<pre style=\"white-space:pre;overflow-x:auto;line-height:normal;font-family:Menlo,'DejaVu Sans Mono',consolas,'Courier New',monospace\"><span style=\"font-weight: bold\"> Non-trainable params: </span><span style=\"color: #00af00; text-decoration-color: #00af00\">0</span> (0.00 B)\n",
              "</pre>\n"
            ]
          },
          "metadata": {}
        }
      ],
      "source": [
        "# ============ TensorFlow/Keras Model ============\n",
        "\n",
        "def create_keras_model():\n",
        "    \"\"\"\n",
        "    Create a neural network using Keras Sequential API.\n",
        "    Keras provides high-level building blocks for quick prototyping.\n",
        "    \"\"\"\n",
        "    model = keras.Sequential([\n",
        "        # Input layer - specify input shape\n",
        "        layers.Input(shape=(784,)),\n",
        "\n",
        "        # Hidden layer 1: Dense (fully connected) with 128 neurons\n",
        "        layers.Dense(128, activation='relu', name='hidden1'),\n",
        "        # Dropout for regularization (randomly drops 20% of connections)\n",
        "        layers.Dropout(0.2),\n",
        "\n",
        "        # Hidden layer 2: 64 neurons\n",
        "        layers.Dense(64, activation='relu', name='hidden2'),\n",
        "        layers.Dropout(0.2),\n",
        "\n",
        "        # Output layer: 10 neurons (one per class) with softmax\n",
        "        layers.Dense(10, activation='softmax', name='output')\n",
        "    ])\n",
        "\n",
        "    return model\n",
        "\n",
        "# Create and display model\n",
        "keras_model = create_keras_model()\n",
        "keras_model.summary()  # Print model architecture"
      ]
    },
    {
      "cell_type": "code",
      "execution_count": 9,
      "metadata": {
        "id": "VArVEzevoS4d",
        "outputId": "5c26a0c0-557d-4995-883f-64f92df5877e",
        "colab": {
          "base_uri": "https://localhost:8080/"
        }
      },
      "outputs": [
        {
          "output_type": "stream",
          "name": "stdout",
          "text": [
            "PyTorch Model: 109,386 parameters\n",
            "PyTorchNet(\n",
            "  (fc1): Linear(in_features=784, out_features=128, bias=True)\n",
            "  (dropout1): Dropout(p=0.2, inplace=False)\n",
            "  (fc2): Linear(in_features=128, out_features=64, bias=True)\n",
            "  (dropout2): Dropout(p=0.2, inplace=False)\n",
            "  (fc3): Linear(in_features=64, out_features=10, bias=True)\n",
            ")\n"
          ]
        }
      ],
      "source": [
        "# ============ PyTorch Model ============\n",
        "\n",
        "class PyTorchNet(nn.Module):\n",
        "    \"\"\"\n",
        "    PyTorch model using nn.Module base class.\n",
        "    Requires explicit definition of forward pass.\n",
        "    \"\"\"\n",
        "    def __init__(self):\n",
        "        super(PyTorchNet, self).__init__()\n",
        "        # Define layers\n",
        "        self.fc1 = nn.Linear(784, 128)  # First fully connected layer\n",
        "        self.dropout1 = nn.Dropout(0.2)\n",
        "        self.fc2 = nn.Linear(128, 64)   # Second fully connected layer\n",
        "        self.dropout2 = nn.Dropout(0.2)\n",
        "        self.fc3 = nn.Linear(64, 10)    # Output layer\n",
        "\n",
        "    def forward(self, x):\n",
        "        \"\"\"\n",
        "        Define the forward pass explicitly.\n",
        "        This gives more control over data flow.\n",
        "        \"\"\"\n",
        "        # Flatten input if needed\n",
        "        x = x.view(-1, 784)  # Reshape to (batch_size, 784)\n",
        "\n",
        "        # Forward pass through layers\n",
        "        x = F.relu(self.fc1(x))  # Apply ReLU activation\n",
        "        x = self.dropout1(x)\n",
        "        x = F.relu(self.fc2(x))\n",
        "        x = self.dropout2(x)\n",
        "        x = F.log_softmax(self.fc3(x), dim=1)  # Log softmax for numerical stability\n",
        "\n",
        "        return x\n",
        "\n",
        "# Create model and move to GPU if available\n",
        "device = torch.device('cuda' if torch.cuda.is_available() else 'cpu')\n",
        "pytorch_model = PyTorchNet().to(device)\n",
        "\n",
        "# Count parameters\n",
        "total_params = sum(p.numel() for p in pytorch_model.parameters())\n",
        "print(f\"PyTorch Model: {total_params:,} parameters\")\n",
        "print(pytorch_model)"
      ]
    },
    {
      "cell_type": "markdown",
      "metadata": {
        "id": "wA_FqJHzoS4d"
      },
      "source": [
        "## 5. Model Compilation and Optimization Setup\n",
        "\n",
        "Both frameworks require specifying:\n",
        "- **Optimizer**: Algorithm for updating weights (SGD, Adam, etc.)\n",
        "- **Loss Function**: Measure of prediction error\n",
        "- **Metrics**: Performance indicators to track"
      ]
    },
    {
      "cell_type": "code",
      "execution_count": 10,
      "metadata": {
        "id": "7IWrYzI2oS4e",
        "outputId": "401955ca-9e77-4856-ed62-34c6ab7ae876",
        "colab": {
          "base_uri": "https://localhost:8080/"
        }
      },
      "outputs": [
        {
          "output_type": "stream",
          "name": "stdout",
          "text": [
            "Keras model compiled successfully!\n",
            "Optimizer: Adam (lr=0.001)\n",
            "Loss: Categorical Crossentropy\n"
          ]
        }
      ],
      "source": [
        "# ============ Keras Compilation ============\n",
        "# Keras uses compile() to configure the training process\n",
        "\n",
        "keras_model.compile(\n",
        "    optimizer=keras.optimizers.Adam(learning_rate=0.001),  # Adam optimizer\n",
        "    loss='categorical_crossentropy',  # Multi-class classification loss\n",
        "    metrics=['accuracy']  # Track accuracy during training\n",
        ")\n",
        "\n",
        "print(\"Keras model compiled successfully!\")\n",
        "print(f\"Optimizer: Adam (lr=0.001)\")\n",
        "print(f\"Loss: Categorical Crossentropy\")"
      ]
    },
    {
      "cell_type": "code",
      "execution_count": 11,
      "metadata": {
        "id": "naphImkQoS4e",
        "outputId": "ea64c4c4-bfaa-4189-bb69-4d9459707f82",
        "colab": {
          "base_uri": "https://localhost:8080/"
        }
      },
      "outputs": [
        {
          "output_type": "stream",
          "name": "stdout",
          "text": [
            "PyTorch optimization setup complete!\n",
            "Optimizer: Adam (lr=0.001)\n",
            "Loss: Negative Log Likelihood\n"
          ]
        }
      ],
      "source": [
        "# ============ PyTorch Optimization Setup ============\n",
        "# PyTorch requires separate optimizer and loss function objects\n",
        "\n",
        "# Define optimizer (updates model parameters)\n",
        "pytorch_optimizer = optim.Adam(pytorch_model.parameters(), lr=0.001)\n",
        "\n",
        "# Define loss function (negative log likelihood for classification)\n",
        "pytorch_criterion = nn.NLLLoss()  # Works with log_softmax output\n",
        "\n",
        "print(\"PyTorch optimization setup complete!\")\n",
        "print(f\"Optimizer: Adam (lr=0.001)\")\n",
        "print(f\"Loss: Negative Log Likelihood\")"
      ]
    },
    {
      "cell_type": "markdown",
      "metadata": {
        "id": "aYwFPBEAoS4e"
      },
      "source": [
        "## 6. Training Loops: Framework Comparison\n",
        "\n",
        "### Key Differences:\n",
        "- **Keras**: High-level `fit()` method handles everything\n",
        "- **PyTorch**: Manual training loop gives more control"
      ]
    },
    {
      "cell_type": "code",
      "execution_count": 12,
      "metadata": {
        "id": "mz3vEMTFoS4e",
        "outputId": "5fe7c0b7-7d36-40f6-822c-5d621d2c220f",
        "colab": {
          "base_uri": "https://localhost:8080/"
        }
      },
      "outputs": [
        {
          "output_type": "stream",
          "name": "stdout",
          "text": [
            "Training Keras model...\n",
            "Epoch 1/10\n",
            "\u001b[1m844/844\u001b[0m \u001b[32m━━━━━━━━━━━━━━━━━━━━\u001b[0m\u001b[37m\u001b[0m \u001b[1m7s\u001b[0m 5ms/step - accuracy: 0.7891 - loss: 0.6873 - val_accuracy: 0.9625 - val_loss: 0.1286 - learning_rate: 0.0010\n",
            "Epoch 2/10\n",
            "\u001b[1m844/844\u001b[0m \u001b[32m━━━━━━━━━━━━━━━━━━━━\u001b[0m\u001b[37m\u001b[0m \u001b[1m4s\u001b[0m 5ms/step - accuracy: 0.9419 - loss: 0.1987 - val_accuracy: 0.9700 - val_loss: 0.0922 - learning_rate: 0.0010\n",
            "Epoch 3/10\n",
            "\u001b[1m844/844\u001b[0m \u001b[32m━━━━━━━━━━━━━━━━━━━━\u001b[0m\u001b[37m\u001b[0m \u001b[1m2s\u001b[0m 2ms/step - accuracy: 0.9570 - loss: 0.1460 - val_accuracy: 0.9748 - val_loss: 0.0844 - learning_rate: 0.0010\n",
            "Epoch 4/10\n",
            "\u001b[1m844/844\u001b[0m \u001b[32m━━━━━━━━━━━━━━━━━━━━\u001b[0m\u001b[37m\u001b[0m \u001b[1m2s\u001b[0m 2ms/step - accuracy: 0.9648 - loss: 0.1168 - val_accuracy: 0.9768 - val_loss: 0.0779 - learning_rate: 0.0010\n",
            "Epoch 5/10\n",
            "\u001b[1m844/844\u001b[0m \u001b[32m━━━━━━━━━━━━━━━━━━━━\u001b[0m\u001b[37m\u001b[0m \u001b[1m2s\u001b[0m 2ms/step - accuracy: 0.9693 - loss: 0.0998 - val_accuracy: 0.9785 - val_loss: 0.0707 - learning_rate: 0.0010\n",
            "Epoch 6/10\n",
            "\u001b[1m844/844\u001b[0m \u001b[32m━━━━━━━━━━━━━━━━━━━━\u001b[0m\u001b[37m\u001b[0m \u001b[1m2s\u001b[0m 3ms/step - accuracy: 0.9722 - loss: 0.0891 - val_accuracy: 0.9808 - val_loss: 0.0657 - learning_rate: 0.0010\n",
            "Epoch 7/10\n",
            "\u001b[1m844/844\u001b[0m \u001b[32m━━━━━━━━━━━━━━━━━━━━\u001b[0m\u001b[37m\u001b[0m \u001b[1m3s\u001b[0m 3ms/step - accuracy: 0.9741 - loss: 0.0812 - val_accuracy: 0.9808 - val_loss: 0.0652 - learning_rate: 0.0010\n",
            "Epoch 8/10\n",
            "\u001b[1m844/844\u001b[0m \u001b[32m━━━━━━━━━━━━━━━━━━━━\u001b[0m\u001b[37m\u001b[0m \u001b[1m2s\u001b[0m 2ms/step - accuracy: 0.9776 - loss: 0.0733 - val_accuracy: 0.9787 - val_loss: 0.0674 - learning_rate: 0.0010\n",
            "Epoch 9/10\n",
            "\u001b[1m844/844\u001b[0m \u001b[32m━━━━━━━━━━━━━━━━━━━━\u001b[0m\u001b[37m\u001b[0m \u001b[1m2s\u001b[0m 2ms/step - accuracy: 0.9787 - loss: 0.0691 - val_accuracy: 0.9805 - val_loss: 0.0665 - learning_rate: 0.0010\n",
            "Epoch 10/10\n",
            "\u001b[1m844/844\u001b[0m \u001b[32m━━━━━━━━━━━━━━━━━━━━\u001b[0m\u001b[37m\u001b[0m \u001b[1m2s\u001b[0m 2ms/step - accuracy: 0.9815 - loss: 0.0570 - val_accuracy: 0.9833 - val_loss: 0.0585 - learning_rate: 5.0000e-04\n"
          ]
        }
      ],
      "source": [
        "# ============ Keras Training ============\n",
        "# Simple and concise training with callbacks\n",
        "\n",
        "# Define callbacks for additional functionality\n",
        "keras_callbacks = [\n",
        "    # Early stopping prevents overfitting\n",
        "    callbacks.EarlyStopping(monitor='val_loss', patience=3, restore_best_weights=True),\n",
        "    # Reduce learning rate when loss plateaus\n",
        "    callbacks.ReduceLROnPlateau(monitor='val_loss', factor=0.5, patience=2)\n",
        "]\n",
        "\n",
        "# Train the model\n",
        "print(\"Training Keras model...\")\n",
        "keras_history = keras_model.fit(\n",
        "    x_train_tf_flat, y_train_tf_cat,  # Training data\n",
        "    batch_size=64,\n",
        "    epochs=10,\n",
        "    validation_split=0.1,  # Use 10% of training data for validation\n",
        "    callbacks=keras_callbacks,\n",
        "    verbose=1  # Show progress bar\n",
        ")"
      ]
    },
    {
      "cell_type": "code",
      "execution_count": 13,
      "metadata": {
        "id": "k7vbPOaNoS4e",
        "outputId": "4f718496-af9a-4398-a3db-d6a2e9c748eb",
        "colab": {
          "base_uri": "https://localhost:8080/"
        }
      },
      "outputs": [
        {
          "output_type": "stream",
          "name": "stdout",
          "text": [
            "Training PyTorch model...\n",
            "  Batch 0/938, Loss: 2.3151\n",
            "  Batch 100/938, Loss: 0.5047\n",
            "  Batch 200/938, Loss: 0.4591\n",
            "  Batch 300/938, Loss: 0.3720\n",
            "  Batch 400/938, Loss: 0.3175\n",
            "  Batch 500/938, Loss: 0.1360\n",
            "  Batch 600/938, Loss: 0.1951\n",
            "  Batch 700/938, Loss: 0.1122\n",
            "  Batch 800/938, Loss: 0.2801\n",
            "  Batch 900/938, Loss: 0.2027\n",
            "Epoch 1/10:\n",
            "  Train Loss: 0.3434, Train Acc: 89.68%\n",
            "  Test Loss: 0.1501, Test Acc: 95.19%\n",
            "  Batch 0/938, Loss: 0.2556\n",
            "  Batch 100/938, Loss: 0.1487\n",
            "  Batch 200/938, Loss: 0.1664\n",
            "  Batch 300/938, Loss: 0.1445\n",
            "  Batch 400/938, Loss: 0.1741\n",
            "  Batch 500/938, Loss: 0.1555\n",
            "  Batch 600/938, Loss: 0.1102\n",
            "  Batch 700/938, Loss: 0.1676\n",
            "  Batch 800/938, Loss: 0.0833\n",
            "  Batch 900/938, Loss: 0.2741\n",
            "Epoch 2/10:\n",
            "  Train Loss: 0.1672, Train Acc: 95.00%\n",
            "  Test Loss: 0.1064, Test Acc: 96.61%\n",
            "  Batch 0/938, Loss: 0.1292\n",
            "  Batch 100/938, Loss: 0.0631\n",
            "  Batch 200/938, Loss: 0.1469\n",
            "  Batch 300/938, Loss: 0.0388\n",
            "  Batch 400/938, Loss: 0.2954\n",
            "  Batch 500/938, Loss: 0.1400\n",
            "  Batch 600/938, Loss: 0.1394\n",
            "  Batch 700/938, Loss: 0.0857\n",
            "  Batch 800/938, Loss: 0.2440\n",
            "  Batch 900/938, Loss: 0.3084\n",
            "Epoch 3/10:\n",
            "  Train Loss: 0.1329, Train Acc: 96.06%\n",
            "  Test Loss: 0.0916, Test Acc: 96.96%\n",
            "  Batch 0/938, Loss: 0.0300\n",
            "  Batch 100/938, Loss: 0.1070\n",
            "  Batch 200/938, Loss: 0.1014\n",
            "  Batch 300/938, Loss: 0.0287\n",
            "  Batch 400/938, Loss: 0.0580\n",
            "  Batch 500/938, Loss: 0.0291\n",
            "  Batch 600/938, Loss: 0.1463\n",
            "  Batch 700/938, Loss: 0.2943\n",
            "  Batch 800/938, Loss: 0.2709\n",
            "  Batch 900/938, Loss: 0.1705\n",
            "Epoch 4/10:\n",
            "  Train Loss: 0.1147, Train Acc: 96.48%\n",
            "  Test Loss: 0.0863, Test Acc: 97.31%\n",
            "  Batch 0/938, Loss: 0.0919\n",
            "  Batch 100/938, Loss: 0.0564\n",
            "  Batch 200/938, Loss: 0.1079\n",
            "  Batch 300/938, Loss: 0.1031\n",
            "  Batch 400/938, Loss: 0.0643\n",
            "  Batch 500/938, Loss: 0.0638\n",
            "  Batch 600/938, Loss: 0.0753\n",
            "  Batch 700/938, Loss: 0.1091\n",
            "  Batch 800/938, Loss: 0.1901\n",
            "  Batch 900/938, Loss: 0.0951\n",
            "Epoch 5/10:\n",
            "  Train Loss: 0.1015, Train Acc: 96.90%\n",
            "  Test Loss: 0.0811, Test Acc: 97.58%\n",
            "  Batch 0/938, Loss: 0.0617\n",
            "  Batch 100/938, Loss: 0.0179\n",
            "  Batch 200/938, Loss: 0.2193\n",
            "  Batch 300/938, Loss: 0.0764\n",
            "  Batch 400/938, Loss: 0.0690\n",
            "  Batch 500/938, Loss: 0.0330\n",
            "  Batch 600/938, Loss: 0.1179\n",
            "  Batch 700/938, Loss: 0.0680\n",
            "  Batch 800/938, Loss: 0.0429\n",
            "  Batch 900/938, Loss: 0.0712\n",
            "Epoch 6/10:\n",
            "  Train Loss: 0.0912, Train Acc: 97.17%\n",
            "  Test Loss: 0.0753, Test Acc: 97.83%\n",
            "  Batch 0/938, Loss: 0.0918\n",
            "  Batch 100/938, Loss: 0.0820\n",
            "  Batch 200/938, Loss: 0.0424\n",
            "  Batch 300/938, Loss: 0.0897\n",
            "  Batch 400/938, Loss: 0.0638\n",
            "  Batch 500/938, Loss: 0.0606\n",
            "  Batch 600/938, Loss: 0.0121\n",
            "  Batch 700/938, Loss: 0.0555\n",
            "  Batch 800/938, Loss: 0.0174\n",
            "  Batch 900/938, Loss: 0.1969\n",
            "Epoch 7/10:\n",
            "  Train Loss: 0.0845, Train Acc: 97.37%\n",
            "  Test Loss: 0.0747, Test Acc: 97.84%\n",
            "  Batch 0/938, Loss: 0.1430\n",
            "  Batch 100/938, Loss: 0.0251\n",
            "  Batch 200/938, Loss: 0.1218\n",
            "  Batch 300/938, Loss: 0.1488\n",
            "  Batch 400/938, Loss: 0.1054\n",
            "  Batch 500/938, Loss: 0.2335\n",
            "  Batch 600/938, Loss: 0.0561\n",
            "  Batch 700/938, Loss: 0.1179\n",
            "  Batch 800/938, Loss: 0.1234\n",
            "  Batch 900/938, Loss: 0.0082\n",
            "Epoch 8/10:\n",
            "  Train Loss: 0.0789, Train Acc: 97.56%\n",
            "  Test Loss: 0.0767, Test Acc: 97.69%\n",
            "  Batch 0/938, Loss: 0.0947\n",
            "  Batch 100/938, Loss: 0.0050\n",
            "  Batch 200/938, Loss: 0.1170\n",
            "  Batch 300/938, Loss: 0.3272\n",
            "  Batch 400/938, Loss: 0.0272\n",
            "  Batch 500/938, Loss: 0.0555\n",
            "  Batch 600/938, Loss: 0.0758\n",
            "  Batch 700/938, Loss: 0.1023\n",
            "  Batch 800/938, Loss: 0.0088\n",
            "  Batch 900/938, Loss: 0.1021\n",
            "Epoch 9/10:\n",
            "  Train Loss: 0.0754, Train Acc: 97.61%\n",
            "  Test Loss: 0.0750, Test Acc: 97.86%\n",
            "  Batch 0/938, Loss: 0.0455\n",
            "  Batch 100/938, Loss: 0.1283\n",
            "  Batch 200/938, Loss: 0.0278\n",
            "  Batch 300/938, Loss: 0.1613\n",
            "  Batch 400/938, Loss: 0.0473\n",
            "  Batch 500/938, Loss: 0.1183\n",
            "  Batch 600/938, Loss: 0.0640\n",
            "  Batch 700/938, Loss: 0.0703\n",
            "  Batch 800/938, Loss: 0.0832\n",
            "  Batch 900/938, Loss: 0.0662\n",
            "Epoch 10/10:\n",
            "  Train Loss: 0.0703, Train Acc: 97.79%\n",
            "  Test Loss: 0.0734, Test Acc: 97.83%\n"
          ]
        }
      ],
      "source": [
        "# ============ PyTorch Training ============\n",
        "# Manual training loop provides full control\n",
        "\n",
        "def train_pytorch_model(model, train_loader, test_loader, epochs=10):\n",
        "    \"\"\"\n",
        "    Manual training loop for PyTorch.\n",
        "    This gives complete control over the training process.\n",
        "    \"\"\"\n",
        "    train_losses = []\n",
        "    test_losses = []\n",
        "    train_accuracies = []\n",
        "    test_accuracies = []\n",
        "\n",
        "    for epoch in range(epochs):\n",
        "        # ===== Training Phase =====\n",
        "        model.train()  # Set model to training mode (enables dropout)\n",
        "        train_loss = 0\n",
        "        correct = 0\n",
        "        total = 0\n",
        "\n",
        "        for batch_idx, (data, target) in enumerate(train_loader):\n",
        "            # Move data to device (GPU if available)\n",
        "            data, target = data.to(device), target.to(device)\n",
        "\n",
        "            # Zero gradients from previous step\n",
        "            pytorch_optimizer.zero_grad()\n",
        "\n",
        "            # Forward pass\n",
        "            output = model(data)\n",
        "\n",
        "            # Calculate loss\n",
        "            loss = pytorch_criterion(output, target)\n",
        "\n",
        "            # Backward pass (compute gradients)\n",
        "            loss.backward()\n",
        "\n",
        "            # Update weights\n",
        "            pytorch_optimizer.step()\n",
        "\n",
        "            # Track metrics\n",
        "            train_loss += loss.item()\n",
        "            _, predicted = output.max(1)\n",
        "            total += target.size(0)\n",
        "            correct += predicted.eq(target).sum().item()\n",
        "\n",
        "            # Print progress\n",
        "            if batch_idx % 100 == 0:\n",
        "                print(f'  Batch {batch_idx}/{len(train_loader)}, Loss: {loss.item():.4f}')\n",
        "\n",
        "        # Calculate epoch metrics\n",
        "        avg_train_loss = train_loss / len(train_loader)\n",
        "        train_acc = 100. * correct / total\n",
        "        train_losses.append(avg_train_loss)\n",
        "        train_accuracies.append(train_acc)\n",
        "\n",
        "        # ===== Validation Phase =====\n",
        "        model.eval()  # Set model to evaluation mode (disables dropout)\n",
        "        test_loss = 0\n",
        "        correct = 0\n",
        "\n",
        "        with torch.no_grad():  # Disable gradient computation for efficiency\n",
        "            for data, target in test_loader:\n",
        "                data, target = data.to(device), target.to(device)\n",
        "                output = model(data)\n",
        "                test_loss += pytorch_criterion(output, target).item()\n",
        "                _, predicted = output.max(1)\n",
        "                correct += predicted.eq(target).sum().item()\n",
        "\n",
        "        # Calculate validation metrics\n",
        "        avg_test_loss = test_loss / len(test_loader)\n",
        "        test_acc = 100. * correct / len(test_dataset)\n",
        "        test_losses.append(avg_test_loss)\n",
        "        test_accuracies.append(test_acc)\n",
        "\n",
        "        print(f'Epoch {epoch+1}/{epochs}:')\n",
        "        print(f'  Train Loss: {avg_train_loss:.4f}, Train Acc: {train_acc:.2f}%')\n",
        "        print(f'  Test Loss: {avg_test_loss:.4f}, Test Acc: {test_acc:.2f}%')\n",
        "\n",
        "    return train_losses, test_losses, train_accuracies, test_accuracies\n",
        "\n",
        "# Train the PyTorch model\n",
        "print(\"Training PyTorch model...\")\n",
        "pytorch_history = train_pytorch_model(pytorch_model, train_loader, test_loader, epochs=10)"
      ]
    },
    {
      "cell_type": "markdown",
      "metadata": {
        "id": "_QeNtaUWoS4e"
      },
      "source": [
        "## 7. Model Evaluation and Visualization"
      ]
    },
    {
      "cell_type": "code",
      "execution_count": 14,
      "metadata": {
        "id": "fONxfqU6oS4e",
        "outputId": "ecc4ae61-c513-4b23-ec7d-9b40eaf06e1e",
        "colab": {
          "base_uri": "https://localhost:8080/"
        }
      },
      "outputs": [
        {
          "output_type": "stream",
          "name": "stdout",
          "text": [
            "Keras Model Performance:\n",
            "  Test Loss: 0.0651\n",
            "  Test Accuracy: 0.9820\n",
            "\n",
            "PyTorch Model Performance:\n",
            "  Test Accuracy: 0.9783\n"
          ]
        }
      ],
      "source": [
        "# ============ Evaluate Keras Model ============\n",
        "keras_loss, keras_accuracy = keras_model.evaluate(x_test_tf_flat, y_test_tf_cat, verbose=0)\n",
        "print(f\"Keras Model Performance:\")\n",
        "print(f\"  Test Loss: {keras_loss:.4f}\")\n",
        "print(f\"  Test Accuracy: {keras_accuracy:.4f}\")\n",
        "\n",
        "# ============ Evaluate PyTorch Model ============\n",
        "pytorch_model.eval()\n",
        "correct = 0\n",
        "total = 0\n",
        "\n",
        "with torch.no_grad():\n",
        "    for data, target in test_loader:\n",
        "        data, target = data.to(device), target.to(device)\n",
        "        outputs = pytorch_model(data)\n",
        "        _, predicted = torch.max(outputs.data, 1)\n",
        "        total += target.size(0)\n",
        "        correct += (predicted == target).sum().item()\n",
        "\n",
        "pytorch_accuracy = correct / total\n",
        "print(f\"\\nPyTorch Model Performance:\")\n",
        "print(f\"  Test Accuracy: {pytorch_accuracy:.4f}\")"
      ]
    },
    {
      "cell_type": "code",
      "execution_count": 15,
      "metadata": {
        "id": "mHB6ZZUpoS4e",
        "outputId": "dbf85cd7-bf5a-49d8-e78c-de8588b9b59b",
        "colab": {
          "base_uri": "https://localhost:8080/",
          "height": 407
        }
      },
      "outputs": [
        {
          "output_type": "display_data",
          "data": {
            "text/plain": [
              "<Figure size 1200x400 with 2 Axes>"
            ],
            "image/png": "[encoded data removed]"
          },
          "metadata": {}
        }
      ],
      "source": [
        "# Visualize training history\n",
        "fig, axes = plt.subplots(1, 2, figsize=(12, 4))\n",
        "\n",
        "# Keras training history\n",
        "axes[0].plot(keras_history.history['loss'], label='Train Loss')\n",
        "axes[0].plot(keras_history.history['val_loss'], label='Val Loss')\n",
        "axes[0].set_title('Keras Training History')\n",
        "axes[0].set_xlabel('Epoch')\n",
        "axes[0].set_ylabel('Loss')\n",
        "axes[0].legend()\n",
        "axes[0].grid(True)\n",
        "\n",
        "# PyTorch training history\n",
        "axes[1].plot(pytorch_history[0], label='Train Loss')\n",
        "axes[1].plot(pytorch_history[1], label='Test Loss')\n",
        "axes[1].set_title('PyTorch Training History')\n",
        "axes[1].set_xlabel('Epoch')\n",
        "axes[1].set_ylabel('Loss')\n",
        "axes[1].legend()\n",
        "axes[1].grid(True)\n",
        "\n",
        "plt.tight_layout()\n",
        "plt.show()"
      ]
    },
    {
      "cell_type": "markdown",
      "metadata": {
        "id": "gQYHGB8BoS4e"
      },
      "source": [
        "## 8. Model Saving and Loading\n",
        "\n",
        "### Best Practices for Model Persistence"
      ]
    },
    {
      "cell_type": "code",
      "execution_count": 17,
      "metadata": {
        "id": "uNWRcsThoS4e",
        "outputId": "c758351e-2834-4526-aafc-4260285878ec",
        "colab": {
          "base_uri": "https://localhost:8080/"
        }
      },
      "outputs": [
        {
          "output_type": "stream",
          "name": "stderr",
          "text": [
            "WARNING:absl:You are saving your model as an HDF5 file via `model.save()` or `keras.saving.save_model(model)`. This file format is considered legacy. We recommend using instead the native Keras format, e.g. `model.save('my_model.keras')` or `keras.saving.save_model(model, 'my_model.keras')`. \n"
          ]
        },
        {
          "output_type": "stream",
          "name": "stdout",
          "text": [
            "Keras model saved (complete)\n",
            "Keras model weights saved\n",
            "Keras model saved in SavedModel format\n"
          ]
        }
      ],
      "source": [
        "# ============ Keras Model Saving ============\n",
        "\n",
        "# Method 1: Save entire model (architecture + weights + optimizer state)\n",
        "keras_model.save('keras_model_complete.h5')\n",
        "print(\"Keras model saved (complete)\")\n",
        "\n",
        "# Method 2: Save only weights\n",
        "keras_model.save_weights('keras_model.weights.h5')\n",
        "print(\"Keras model weights saved\")\n",
        "\n",
        "# Method 3: Save as TensorFlow SavedModel format (recommended for production)\n",
        "keras_model.save('keras_saved_model.keras')\n",
        "print(\"Keras model saved in SavedModel format\")\n",
        "\n",
        "# Loading models\n",
        "# loaded_model = keras.models.load_model('keras_model_complete.h5')\n",
        "# keras_model.load_weights('keras_model.weights.h5')"
      ]
    },
    {
      "cell_type": "code",
      "execution_count": 18,
      "metadata": {
        "id": "KucWdhNYoS4e",
        "outputId": "f825dc7e-b9b6-4462-ed00-b25fc07bb0b2",
        "colab": {
          "base_uri": "https://localhost:8080/"
        }
      },
      "outputs": [
        {
          "output_type": "stream",
          "name": "stdout",
          "text": [
            "PyTorch model saved (complete)\n",
            "PyTorch model state dict saved\n",
            "PyTorch checkpoint saved\n"
          ]
        }
      ],
      "source": [
        "# ============ PyTorch Model Saving ============\n",
        "\n",
        "# Method 1: Save entire model (not recommended, less portable)\n",
        "torch.save(pytorch_model, 'pytorch_model_complete.pth')\n",
        "print(\"PyTorch model saved (complete)\")\n",
        "\n",
        "# Method 2: Save only state dict (recommended)\n",
        "torch.save(pytorch_model.state_dict(), 'pytorch_model_weights.pth')\n",
        "print(\"PyTorch model state dict saved\")\n",
        "\n",
        "# Method 3: Save checkpoint with additional information\n",
        "checkpoint = {\n",
        "    'epoch': 10,\n",
        "    'model_state_dict': pytorch_model.state_dict(),\n",
        "    'optimizer_state_dict': pytorch_optimizer.state_dict(),\n",
        "    'loss': pytorch_history[1][-1],\n",
        "}\n",
        "torch.save(checkpoint, 'pytorch_checkpoint.pth')\n",
        "print(\"PyTorch checkpoint saved\")\n",
        "\n",
        "# Loading models\n",
        "# loaded_model = torch.load('pytorch_model_complete.pth')\n",
        "# pytorch_model.load_state_dict(torch.load('pytorch_model_weights.pth'))"
      ]
    },
    {
      "cell_type": "markdown",
      "metadata": {
        "id": "znaypjVKoS4e"
      },
      "source": [
        "## 10. Framework Comparison Summary\n",
        "\n",
        "| Aspect | TensorFlow/Keras | PyTorch |\n",
        "|--------|------------------|----------|\n",
        "| **Learning Curve** | Easier for beginners | Steeper, more Pythonic |\n",
        "| **API Style** | High-level abstractions | Lower-level, explicit |\n",
        "| **Debugging** | Can be challenging | Easier with Python debuggers |\n",
        "| **Production** | Excellent deployment tools | Improving (TorchServe, etc.) |\n",
        "| **Mobile/Edge** | TensorFlow Lite | PyTorch Mobile |\n",
        "| **Research** | Good, improving | Excellent, preferred |\n",
        "| **Community** | Large, enterprise-focused | Large, research-focused |\n",
        "| **Visualization** | TensorBoard (excellent) | TensorBoard support, Weights & Biases |\n",
        "| **Pre-trained Models** | TensorFlow Hub | PyTorch Hub, Hugging Face |"
      ]
    },
    {
      "cell_type": "markdown",
      "metadata": {
        "id": "eDgauNOUoS4e"
      },
      "source": [
        "## 11. Best Practices and Common Pitfalls\n",
        "\n",
        "### TensorFlow/Keras Best Practices:\n",
        "1. **Use tf.data API** for efficient data pipelines\n",
        "2. **Enable mixed precision** for faster training on GPUs\n",
        "3. **Use callbacks** for monitoring and early stopping\n",
        "4. **Profile with TensorBoard** to identify bottlenecks\n",
        "\n",
        "### PyTorch Best Practices:\n",
        "1. **Always call model.eval()** during inference\n",
        "2. **Use torch.no_grad()** context for validation\n",
        "3. **Move data to device** before operations\n",
        "4. **Zero gradients** before backward pass\n",
        "\n",
        "### Common Pitfalls to Avoid:\n",
        "- **Shape mismatches**: Always verify tensor dimensions\n",
        "- **Forgetting to normalize**: Input preprocessing is crucial\n",
        "- **Not setting seeds**: Reproducibility requires fixed seeds\n",
        "- **Memory leaks**: Detach tensors when needed (PyTorch)\n",
        "- **Wrong loss functions**: Match loss to output activation"
      ]
    },
    {
      "cell_type": "markdown",
      "metadata": {
        "id": "GhkyoQ4poS4e"
      },
      "source": [
        "## 12. Practice Exercises\n",
        "\n",
        "Complete the following exercises to reinforce your understanding of deep learning frameworks.\n",
        "\n",
        "### Exercise 1: Implement a CNN in Both Frameworks\n",
        "Create a convolutional neural network for MNIST with:\n",
        "- 2 convolutional layers (32 and 64 filters)\n",
        "- MaxPooling after each conv layer\n",
        "- 2 fully connected layers\n",
        "- Compare training times and accuracy\n",
        "\n",
        "\n",
        "\n",
        "\n"
      ]
    },
    {
      "cell_type": "code",
      "source": [
        "## You Solution here\n",
        "\n",
        "\n"
      ],
      "metadata": {
        "id": "uI5xKrs4wyAG"
      },
      "execution_count": null,
      "outputs": []
    },
    {
      "cell_type": "markdown",
      "source": [
        "### Exercise 2: Data Augmentation\n",
        "Add data augmentation to the training pipeline:\n",
        "- Random rotation (±15 degrees)\n",
        "- Random zoom (0.9-1.1)\n",
        "- Compare model performance with/without augmentation"
      ],
      "metadata": {
        "id": "GeEe24tLwysA"
      }
    },
    {
      "cell_type": "code",
      "source": [
        "## You Solution here\n",
        "\n"
      ],
      "metadata": {
        "id": "oq3XVQcnwzLw"
      },
      "execution_count": null,
      "outputs": []
    },
    {
      "cell_type": "markdown",
      "metadata": {
        "id": "68l7dRGmoS4f"
      },
      "source": [
        "## Conclusion and Next Steps\n",
        "\n",
        "### Key Takeaways:\n",
        "1. **Both frameworks are powerful**: Choice depends on use case\n",
        "2. **Keras for simplicity**: Quick prototyping and standard models\n",
        "3. **PyTorch for flexibility**: Research and custom architectures\n",
        "4. **Transferable concepts**: Core deep learning principles apply to both\n",
        "\n",
        "### Recommended Next Steps:\n",
        "1. **Experiment with both frameworks** on your own projects\n",
        "2. **Explore advanced features**: Custom training loops, mixed precision, distributed training\n",
        "3. **Join communities**: Forums, GitHub, research papers\n",
        "4. **Build projects**: Apply frameworks to real-world problems\n",
        "\n",
        "### Additional Resources:\n",
        "- [TensorFlow Documentation](https://www.tensorflow.org/)\n",
        "- [PyTorch Documentation](https://pytorch.org/)\n",
        "- [Papers with Code](https://paperswithcode.com/) - Implementations in both frameworks\n",
        "- [Hugging Face](https://huggingface.co/) - Pre-trained models and datasets"
      ]
    }
  ],
  "metadata": {
    "kernelspec": {
      "display_name": "Python 3",
      "name": "python3"
    },
    "language_info": {
      "codemirror_mode": {
        "name": "ipython",
        "version": 3
      },
      "file_extension": ".py",
      "mimetype": "text/x-python",
      "name": "python",
      "nbconvert_exporter": "python",
      "pygments_lexer": "ipython3",
      "version": "3.11.10"
    },
    "colab": {
      "provenance": [],
      "toc_visible": true,
      "gpuType": "T4",
      "include_colab_link": true
    },
    "accelerator": "GPU"
  },
  "nbformat": 4,
  "nbformat_minor": 0
}